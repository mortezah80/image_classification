{
 "cells": [
  {
   "cell_type": "code",
   "execution_count": 2,
   "id": "7717a51e",
   "metadata": {
    "id": "7717a51e"
   },
   "outputs": [],
   "source": [
    "import matplotlib.pyplot as plt\n",
    "\n",
    "import tensorflow as tf\n",
    "\n",
    "from tensorflow.keras.models import Sequential\n",
    "from tensorflow.keras.layers import Dense, Conv2D , MaxPool2D , Flatten , Dropout ,ZeroPadding2D , Conv2DTranspose, AveragePooling2D,UpSampling2D\n",
    "from tensorflow.keras.preprocessing.image import ImageDataGenerator\n",
    "from tensorflow.keras.utils import to_categorical\n",
    "from sklearn.decomposition import PCA\n",
    "from tensorflow import keras\n",
    "from tensorflow.keras.optimizers import Adam\n",
    "from sklearn.metrics import classification_report,confusion_matrix\n",
    "import numpy as np\n",
    "\n",
    "import cv2\n",
    "from keras.layers import Input\n",
    "from keras.models import Model"
   ]
  },
  {
   "cell_type": "markdown",
   "id": "umcrgKyXM8_s",
   "metadata": {
    "id": "umcrgKyXM8_s"
   },
   "source": [
    "اتصال به گوگل درایو برای خواندن دیتاست\n"
   ]
  },
  {
   "cell_type": "code",
   "execution_count": 2,
   "id": "cvvupuoxqXea",
   "metadata": {
    "colab": {
     "base_uri": "https://localhost:8080/"
    },
    "id": "cvvupuoxqXea",
    "outputId": "fd4c0009-f4b0-4e97-b085-fbc9d0ddfc54"
   },
   "outputs": [
    {
     "name": "stdout",
     "output_type": "stream",
     "text": [
      "Drive already mounted at /content/gdrive; to attempt to forcibly remount, call drive.mount(\"/content/gdrive\", force_remount=True).\n"
     ]
    }
   ],
   "source": [
    "from google.colab import drive\n",
    "drive.mount('/content/gdrive')"
   ]
  },
  {
   "cell_type": "markdown",
   "id": "xpdmmviDM5ME",
   "metadata": {
    "id": "xpdmmviDM5ME"
   },
   "source": []
  },
  {
   "cell_type": "code",
   "execution_count": null,
   "id": "3Wm6uYQlqliC",
   "metadata": {
    "id": "3Wm6uYQlqliC"
   },
   "outputs": [],
   "source": [
    "ls"
   ]
  },
  {
   "cell_type": "markdown",
   "id": "uYQY1j3ldcgF",
   "metadata": {
    "id": "uYQY1j3ldcgF"
   },
   "source": [
    "خواندن دیتاست"
   ]
  },
  {
   "cell_type": "code",
   "execution_count": 3,
   "id": "83391466",
   "metadata": {
    "colab": {
     "base_uri": "https://localhost:8080/"
    },
    "id": "83391466",
    "outputId": "a4f29383-435e-4a85-e275-9c6a5f225c83"
   },
   "outputs": [
    {
     "name": "stdout",
     "output_type": "stream",
     "text": [
      "0 1 2 3 4 5 6 7 8 9 10 11 12 13 14 15 16 17 18 19 20 21 22 23 24 25 26 27 28 29 30 31 32 33 34 35 36 37 38 39 40 41 42 43 44 45 46 47 48 49 50 51 52 53 54 55 56 57 58 59 60 61 62 63 64 65 66 67 68 69 70 71 72 73 74 75 76 77 78 79 80 81 82 83 84 85 86 87 88 89 90 91 92 93 94 95 96 97 98 99 0 1 2 3 4 5 6 7 8 9 10 11 12 13 14 15 16 17 18 19 20 21 22 23 24 25 26 27 28 29 30 31 32 33 34 35 36 37 38 39 40 41 42 43 44 45 46 47 48 49 50 51 52 53 54 55 56 57 58 59 60 61 62 63 64 65 66 67 68 69 70 71 72 73 74 75 76 77 78 79 80 81 82 83 84 85 86 87 88 89 90 91 92 93 94 95 96 97 98 99 0 1 2 3 4 5 6 7 8 9 10 11 12 13 14 15 16 17 18 19 20 21 22 23 24 25 26 27 28 29 30 31 32 33 34 35 36 37 38 39 40 41 42 43 44 45 46 47 48 49 50 51 52 53 54 55 56 57 58 59 60 61 62 63 64 65 66 67 68 69 70 71 72 73 74 75 76 77 78 79 80 81 82 83 84 85 86 87 88 89 90 91 92 93 94 95 96 97 98 99 0 1 2 3 4 5 6 7 8 9 10 11 12 13 14 15 16 17 18 19 20 21 22 23 24 25 26 27 28 29 30 31 32 33 34 35 36 37 38 39 40 41 42 43 44 45 46 47 48 49 50 51 52 53 54 55 56 57 58 59 60 61 62 63 64 65 66 67 68 69 70 71 72 73 74 75 76 77 78 79 80 81 82 83 84 85 86 87 88 89 90 91 92 93 94 95 96 97 98 99 0 1 2 3 4 5 6 7 8 9 10 11 12 13 14 15 16 17 18 19 20 21 22 23 24 25 26 27 28 29 30 31 32 33 34 35 36 37 38 39 40 41 42 43 44 45 46 47 48 49 50 51 52 53 54 55 56 57 58 59 60 61 62 63 64 65 66 67 68 69 70 71 72 73 74 75 76 77 78 79 80 81 82 83 84 85 86 87 88 89 90 91 92 93 94 95 96 97 98 99 "
     ]
    }
   ],
   "source": [
    "labels = [\"Ak\", \"Ala_Idris\", \"Buzgulu\", \"Dimnit\", \"Nazli\"]\n",
    "img_size = 70\n",
    "Ak = []\n",
    "Ala_Idris = []\n",
    "Buzgulu = []\n",
    "Dimnit = []\n",
    "Nazli = []\n",
    "\n",
    "AK_original = []\n",
    "Ala_Idris_original = []\n",
    "Buzgulu_original = []\n",
    "Dimnit_original = []\n",
    "Nazli_original = []\n",
    "j = -1\n",
    "for label_name in labels :\n",
    "    j += 1\n",
    "    \n",
    "    for i in range(100) :\n",
    "            print(i , end=\" \")\n",
    "            path = \"gdrive/MyDrive/DataSet/\" + label_name + '/' + label_name + \" (\" + str(i+1) + \").png\"\n",
    "            img = cv2.imread(path, cv2.IMREAD_COLOR)\n",
    "\n",
    "            img2 = cv2.resize(img, (img_size, img_size))\n",
    "            \n",
    "            if j==0:\n",
    "                AK_original.append(img)\n",
    "                Ak.append(img2)\n",
    "            elif j==1:\n",
    "                Ala_Idris_original.append(img)\n",
    "                Ala_Idris.append(img2)\n",
    "            elif j==2:\n",
    "                Buzgulu_original.append(img)\n",
    "                Buzgulu.append(img2)\n",
    "            elif j==3 :\n",
    "                Dimnit_original.append(img)\n",
    "                Dimnit.append(img2)\n",
    "            elif j==4:\n",
    "                Nazli_original.append(img)\n",
    "                Nazli.append(img2)"
   ]
  },
  {
   "cell_type": "markdown",
   "id": "UUPihnYVdgxK",
   "metadata": {
    "id": "UUPihnYVdgxK"
   },
   "source": [
    "##make numpy array"
   ]
  },
  {
   "cell_type": "code",
   "execution_count": 4,
   "id": "xYPsdGaPq8Km",
   "metadata": {
    "colab": {
     "base_uri": "https://localhost:8080/"
    },
    "id": "xYPsdGaPq8Km",
    "outputId": "123b57fb-667d-43d0-887e-da1ec949add4"
   },
   "outputs": [
    {
     "data": {
      "text/plain": [
       "(100, 70, 70, 3)"
      ]
     },
     "execution_count": 4,
     "metadata": {},
     "output_type": "execute_result"
    }
   ],
   "source": [
    "Ak = np.array(Ak)\n",
    "Ala_Idris = np.array(Ala_Idris)\n",
    "Buzgulu = np.array(Buzgulu)\n",
    "Dimnit = np.array(Dimnit)\n",
    "Nazli = np.array(Nazli)\n",
    "\n",
    "\n",
    "Ak.shape\n"
   ]
  },
  {
   "cell_type": "markdown",
   "id": "d4HF8TZXds1A",
   "metadata": {
    "id": "d4HF8TZXds1A"
   },
   "source": []
  },
  {
   "cell_type": "code",
   "execution_count": 5,
   "id": "3c1fa32f",
   "metadata": {
    "colab": {
     "base_uri": "https://localhost:8080/",
     "height": 1000
    },
    "id": "3c1fa32f",
    "outputId": "ecc651b1-65fd-4ae8-cb0e-f086b97465e7",
    "scrolled": true
   },
   "outputs": [
    {
     "data": {
      "text/plain": [
       "array([[[255, 255, 255],\n",
       "        [255, 255, 255],\n",
       "        [255, 255, 255],\n",
       "        ...,\n",
       "        [255, 255, 255],\n",
       "        [255, 255, 255],\n",
       "        [255, 255, 255]],\n",
       "\n",
       "       [[255, 255, 255],\n",
       "        [255, 255, 255],\n",
       "        [255, 255, 255],\n",
       "        ...,\n",
       "        [255, 255, 255],\n",
       "        [255, 255, 255],\n",
       "        [255, 255, 255]],\n",
       "\n",
       "       [[255, 255, 255],\n",
       "        [255, 255, 255],\n",
       "        [255, 255, 255],\n",
       "        ...,\n",
       "        [255, 255, 255],\n",
       "        [255, 255, 255],\n",
       "        [255, 255, 255]],\n",
       "\n",
       "       ...,\n",
       "\n",
       "       [[255, 255, 255],\n",
       "        [255, 255, 255],\n",
       "        [255, 255, 255],\n",
       "        ...,\n",
       "        [255, 255, 255],\n",
       "        [255, 255, 255],\n",
       "        [255, 255, 255]],\n",
       "\n",
       "       [[255, 255, 255],\n",
       "        [255, 255, 255],\n",
       "        [255, 255, 255],\n",
       "        ...,\n",
       "        [255, 255, 255],\n",
       "        [255, 255, 255],\n",
       "        [255, 255, 255]],\n",
       "\n",
       "       [[255, 255, 255],\n",
       "        [255, 255, 255],\n",
       "        [255, 255, 255],\n",
       "        ...,\n",
       "        [255, 255, 255],\n",
       "        [255, 255, 255],\n",
       "        [255, 255, 255]]], dtype=uint8)"
      ]
     },
     "execution_count": 5,
     "metadata": {},
     "output_type": "execute_result"
    },
    {
     "data": {
      "image/png": "[encoded data removed]",
      "text/plain": [
       "<Figure size 1080x720 with 1 Axes>"
      ]
     },
     "metadata": {
      "needs_background": "light"
     },
     "output_type": "display_data"
    }
   ],
   "source": [
    "Ak[5]\n",
    "fig  = plt.figure(figsize=(15, 10))\n",
    "plt.imshow(Ak[5])\n",
    "plt.axis(\"off\")\n",
    "Ak[5]"
   ]
  },
  {
   "cell_type": "code",
   "execution_count": 6,
   "id": "3881b3b7",
   "metadata": {
    "colab": {
     "base_uri": "https://localhost:8080/"
    },
    "id": "3881b3b7",
    "outputId": "a3b0e0a2-c1fd-4575-e8c9-0b580883fbcc"
   },
   "outputs": [
    {
     "data": {
      "text/plain": [
       "(100, 70, 70, 3)"
      ]
     },
     "execution_count": 6,
     "metadata": {},
     "output_type": "execute_result"
    }
   ],
   "source": [
    "Ak = np.array(Ak)\n",
    "Ala_Idris = np.array(Ala_Idris)\n",
    "Buzgulu = np.array(Buzgulu)\n",
    "Dimnit = np.array(Dimnit)\n",
    "Nazli = np.array(Nazli)\n",
    "\n",
    "\n",
    "Ak.shape\n"
   ]
  },
  {
   "cell_type": "markdown",
   "id": "9fER6ETWd4uv",
   "metadata": {
    "id": "9fER6ETWd4uv"
   },
   "source": [
    "## split data so train and test set"
   ]
  },
  {
   "cell_type": "code",
   "execution_count": 7,
   "id": "24ffb54f",
   "metadata": {
    "colab": {
     "base_uri": "https://localhost:8080/"
    },
    "id": "24ffb54f",
    "outputId": "fd16b899-5a41-4cd2-fff6-7849a6bcc65a"
   },
   "outputs": [
    {
     "data": {
      "text/plain": [
       "(20, 70, 70, 3)"
      ]
     },
     "execution_count": 7,
     "metadata": {},
     "output_type": "execute_result"
    }
   ],
   "source": [
    "Ak_train = Ak[0:80]\n",
    "Ala_Idris_train = Ala_Idris[0:80]\n",
    "Buzgulu_train = Buzgulu[0:80]\n",
    "Dimnit_train = Dimnit[0:80]\n",
    "Nazli_train = Nazli[0:80]\n",
    "\n",
    "\n",
    "Ak_test = Ak[80:]\n",
    "Ala_Idris_test = Ala_Idris[80:]\n",
    "Buzgulu_test = Buzgulu[80:]\n",
    "Dimnit_test = Dimnit[80:]\n",
    "Nazli_test = Nazli[80:]\n",
    "\n",
    "Ak_test.shape\n"
   ]
  },
  {
   "cell_type": "markdown",
   "id": "lN8t2sfHd-4a",
   "metadata": {
    "id": "lN8t2sfHd-4a"
   },
   "source": [
    "# data augmentation"
   ]
  },
  {
   "cell_type": "code",
   "execution_count": 8,
   "id": "884133e1",
   "metadata": {
    "id": "884133e1"
   },
   "outputs": [],
   "source": [
    "datagen1 = ImageDataGenerator(horizontal_flip=True)\n",
    "datagen2 = ImageDataGenerator(rotation_range=90)\n",
    "datagen3 = ImageDataGenerator(zoom_range=[0.5,1.0])\n",
    "datagen4 = ImageDataGenerator(brightness_range=[0.2,1.0])\n",
    "datagen5 = ImageDataGenerator(width_shift_range=[-200,200])\n",
    "datagen6 = ImageDataGenerator(height_shift_range=0.5)\n",
    "\n",
    "itHori1 = datagen1.flow(Ak_test, batch_size=1)\n",
    "itRot1 = datagen2.flow(Ak_test, batch_size=1)\n",
    "itZoom1 = datagen3.flow(Ak_test, batch_size=1)\n",
    "itBright1 = datagen4.flow(Ak_test, batch_size=1)\n",
    "itWshift1 = datagen5.flow(Ak_test, batch_size=1)\n",
    "itHshift1 = datagen6.flow(Ak_test, batch_size=1)\n",
    "\n",
    "itHori2 = datagen1.flow(Ala_Idris_train, batch_size=1)\n",
    "itRot2 = datagen2.flow(Ala_Idris_train, batch_size=1)\n",
    "itZoom2 = datagen3.flow(Ala_Idris_train, batch_size=1)\n",
    "itBright2 = datagen4.flow(Ala_Idris_train, batch_size=1)\n",
    "itWshift2 = datagen5.flow(Ala_Idris_train, batch_size=1)\n",
    "itHshift2 = datagen6.flow(Ala_Idris_train, batch_size=1)\n",
    "\n",
    "itHori3 = datagen1.flow(Buzgulu_train, batch_size=1)\n",
    "itRot3 = datagen2.flow(Buzgulu_train, batch_size=1)\n",
    "itZoom3 = datagen3.flow(Buzgulu_train, batch_size=1)\n",
    "itBright3 = datagen4.flow(Buzgulu_train, batch_size=1)\n",
    "itWshift3 = datagen5.flow(Buzgulu_train, batch_size=1)\n",
    "itHshift3 = datagen6.flow(Buzgulu_train, batch_size=1)\n",
    "\n",
    "itHori4 = datagen1.flow(Dimnit_train, batch_size=1)\n",
    "itRot4 = datagen2.flow(Dimnit_train, batch_size=1)\n",
    "itZoom4 = datagen3.flow(Dimnit_train, batch_size=1)\n",
    "itBright4 = datagen4.flow(Dimnit_train, batch_size=1)\n",
    "itWshift4 = datagen5.flow(Dimnit_train, batch_size=1)\n",
    "itHshift4 = datagen6.flow(Dimnit_train, batch_size=1)\n",
    "\n",
    "itHori5 = datagen1.flow(Nazli_train, batch_size=1)\n",
    "itRot5 = datagen2.flow(Nazli_train, batch_size=1)\n",
    "itZoom5 = datagen3.flow(Nazli_train, batch_size=1)\n",
    "itBright5 = datagen4.flow(Nazli_train, batch_size=1)\n",
    "itWshift5 = datagen5.flow(Nazli_train, batch_size=1)\n",
    "itHshift5 = datagen6.flow(Nazli_train, batch_size=1)\n"
   ]
  },
  {
   "cell_type": "code",
   "execution_count": null,
   "id": "6a19ace1",
   "metadata": {
    "id": "6a19ace1"
   },
   "outputs": [],
   "source": [
    "\n",
    "\n",
    "\n",
    "for i in range (70):\n",
    "    \n",
    "    imageHori1 = itHori1.next()[0].astype('uint8')\n",
    "    imageRot1 = itRot1.next()[0].astype('uint8')\n",
    "    imageZoom1 = itZoom1.next()[0].astype('uint8')\n",
    "    imageBright1 = itBright1.next()[0].astype('uint8')\n",
    "    imageWshift1 = itWshift1.next()[0].astype('uint8')\n",
    "    imageHshift1 = itHshift1.next()[0].astype('uint8')\n",
    "\n",
    "    imageHori2 = itHori2.next()[0].astype('uint8') \n",
    "    imageRot2 = itRot2.next()[0].astype('uint8')\n",
    "    imageZoom2 = itZoom2.next()[0].astype('uint8')\n",
    "    imageBright2 = itBright2.next()[0].astype('uint8')\n",
    "    imageWshift2 = itWshift2.next()[0].astype('uint8')\n",
    "    imageHshift2 = itHshift2.next()[0].astype('uint8')\n",
    "\n",
    "    imageHori3 = itHori3.next()[0].astype('uint8')\n",
    "    imageRot3 = itRot3.next()[0].astype('uint8')\n",
    "    imageZoom3 = itZoom3.next()[0].astype('uint8')\n",
    "    imageBright3 = itBright3.next()[0].astype('uint8')\n",
    "    imageWshift3 = itWshift3.next()[0].astype('uint8')\n",
    "    imageHshift3 = itHshift3.next()[0].astype('uint8')\n",
    "\n",
    "    imageHori4 = itHori4.next()[0].astype('uint8')\n",
    "    imageRot4 = itRot4.next()[0].astype('uint8')\n",
    "    imageZoom4 = itZoom4.next()[0].astype('uint8')\n",
    "    imageBright4 = itBright4.next()[0].astype('uint8')\n",
    "    imageWshift4 = itWshift4.next()[0].astype('uint8')\n",
    "    imageHshift4 = itHshift4.next()[0].astype('uint8')\n",
    "\n",
    "    imageHori5 = itHori5.next()[0].astype('uint8')\n",
    "    imageRot5 = itRot5.next()[0].astype('uint8')\n",
    "    imageZoom5 = itZoom5.next()[0].astype('uint8')\n",
    "    imageBright5 = itBright5.next()[0].astype('uint8')\n",
    "    imageWshift5 = itWshift5.next()[0].astype('uint8')\n",
    "    imageHshift5 = itHshift5.next()[0].astype('uint8')\n",
    "\n",
    "    Ak_train = np.append([Ak_train],[imageHori1])\n",
    "    Ak_train = np.append([Ak_train],[imageRot1])\n",
    "    Ak_train = np.append([Ak_train],[imageZoom1])\n",
    "    Ak_train = np.append([Ak_train],[imageBright1])\n",
    "    Ak_train = np.append([Ak_train],[imageWshift1])\n",
    "    Ak_train = np.append([Ak_train],[imageHshift1])\n",
    "\n",
    "    Ala_Idris_train = np.append([Ala_Idris_train], [imageHori2])\n",
    "    Ala_Idris_train = np.append([Ala_Idris_train], [imageRot2])\n",
    "    Ala_Idris_train = np.append([Ala_Idris_train], [imageZoom2])\n",
    "    Ala_Idris_train = np.append([Ala_Idris_train], [imageBright2])\n",
    "    Ala_Idris_train = np.append([Ala_Idris_train], [imageWshift2])\n",
    "    Ala_Idris_train = np.append([Ala_Idris_train], [imageHshift2])\n",
    "\n",
    "    Buzgulu_train = np.append([Buzgulu_train], [imageHori3])\n",
    "    Buzgulu_train = np.append([Buzgulu_train], [imageRot3])\n",
    "    Buzgulu_train = np.append([Buzgulu_train], [imageZoom3])\n",
    "    Buzgulu_train = np.append([Buzgulu_train], [imageBright3])\n",
    "    Buzgulu_train = np.append([Buzgulu_train], [imageWshift3])\n",
    "    Buzgulu_train = np.append([Buzgulu_train], [imageHshift3])\n",
    "\n",
    "    Dimnit_train = np.append([Dimnit_train], [imageHori4])\n",
    "    Dimnit_train = np.append([Dimnit_train], [imageRot4])\n",
    "    Dimnit_train = np.append([Dimnit_train], [imageZoom4])\n",
    "    Dimnit_train = np.append([Dimnit_train], [imageBright4])\n",
    "    Dimnit_train = np.append([Dimnit_train], [imageWshift4])\n",
    "    Dimnit_train = np.append([Dimnit_train], [imageHshift4])\n",
    "\n",
    "    Nazli_train = np.append([Nazli_train] , [imageHori5])\n",
    "    Nazli_train = np.append([Nazli_train] , [imageRot5])\n",
    "    Nazli_train = np.append([Nazli_train] , [imageZoom5])\n",
    "    Nazli_train = np.append([Nazli_train] , [imageBright5])\n",
    "    Nazli_train = np.append([Nazli_train] , [imageWshift5])\n",
    "    Nazli_train = np.append([Nazli_train] , [imageHshift5])\n",
    "\n",
    "    print(i)"
   ]
  },
  {
   "cell_type": "code",
   "execution_count": 10,
   "id": "fsr6L7yt8pe6",
   "metadata": {
    "colab": {
     "base_uri": "https://localhost:8080/"
    },
    "id": "fsr6L7yt8pe6",
    "outputId": "b7f340af-2cf9-47de-e9a6-e31145e9939b"
   },
   "outputs": [
    {
     "data": {
      "text/plain": [
       "3080"
      ]
     },
     "execution_count": 10,
     "metadata": {},
     "output_type": "execute_result"
    }
   ],
   "source": [
    "img_count = Ak_train.shape[0] / (img_size*img_size*3)\n",
    "img_count = int(img_count)\n",
    "img_count"
   ]
  },
  {
   "cell_type": "markdown",
   "id": "zlfhYFz5eE4W",
   "metadata": {
    "id": "zlfhYFz5eE4W"
   },
   "source": [
    "## reshape data to matrix"
   ]
  },
  {
   "cell_type": "code",
   "execution_count": 11,
   "id": "23f9a6ce",
   "metadata": {
    "id": "23f9a6ce"
   },
   "outputs": [],
   "source": [
    "Ak_train= Ak_train.reshape(img_count,img_size,img_size,3)\n",
    "Ala_Idris_train= Ala_Idris_train.reshape(img_count,img_size,img_size,3)\n",
    "Buzgulu_train= Buzgulu_train.reshape(img_count,img_size,img_size,3)\n",
    "Dimnit_train= Dimnit_train.reshape(img_count,img_size,img_size,3)\n",
    "Nazli_train= Nazli_train.reshape(img_count,img_size,img_size,3)\n",
    "\n",
    "\n",
    "\n"
   ]
  },
  {
   "cell_type": "code",
   "execution_count": 12,
   "id": "IRYcaZsfzouG",
   "metadata": {
    "colab": {
     "base_uri": "https://localhost:8080/"
    },
    "id": "IRYcaZsfzouG",
    "outputId": "479d8826-ae8a-4fb9-f201-3ff148074990"
   },
   "outputs": [
    {
     "name": "stdout",
     "output_type": "stream",
     "text": [
      "680.0\n"
     ]
    },
    {
     "data": {
      "text/plain": [
       "(3080, 70, 70, 3)"
      ]
     },
     "execution_count": 12,
     "metadata": {},
     "output_type": "execute_result"
    }
   ],
   "source": [
    "print(39984000  /(140*140*3))\n",
    "Ak_train.shape"
   ]
  },
  {
   "cell_type": "markdown",
   "id": "RR9kDqbNeNZG",
   "metadata": {
    "id": "RR9kDqbNeNZG"
   },
   "source": [
    "## split train set to train and validation set"
   ]
  },
  {
   "cell_type": "code",
   "execution_count": 13,
   "id": "607da27a",
   "metadata": {
    "id": "607da27a"
   },
   "outputs": [],
   "source": [
    "Ak_train.shape\n",
    "msk = np.random.rand(len(Ak_train)) < 0.8\n",
    "\n",
    "Ak_Validation = Ak_train[~msk]\n",
    "Ak_train = Ak_train[msk]\n",
    "\n",
    "Ala_Idris_Validation = Ala_Idris_train[~msk]\n",
    "Ala_Idris_train = Ala_Idris_train[msk]\n",
    "\n",
    "Buzgulu_Validation = Buzgulu_train[~msk]\n",
    "Buzgulu_train = Buzgulu_train[msk]\n",
    "\n",
    "Dimnit_Validation = Dimnit_train[~msk]\n",
    "Dimnit_train = Dimnit_train[msk]\n",
    "\n",
    "Nazli_Validation = Nazli_train[~msk]\n",
    "Nazli_train = Nazli_train[msk]\n",
    "\n"
   ]
  },
  {
   "cell_type": "code",
   "execution_count": 14,
   "id": "lG2b1TdC_dKh",
   "metadata": {
    "id": "lG2b1TdC_dKh"
   },
   "outputs": [],
   "source": [
    "def plot_gallery(images, h, w , o, n_row=3, n_col=4):\n",
    "    \"\"\"Helper function to plot a gallery of portraits\"\"\"\n",
    "    plt.figure(figsize=(1.8 * n_col, 2.4 * n_row))\n",
    "    plt.subplots_adjust(bottom=0, left=0.01, right=0.99, top=0.90, hspace=0.05 , wspace = 0.5)\n",
    "    for i in range(n_row * n_col):\n",
    "        plt.subplot(n_row, n_col, i + 1)\n",
    "        plt.imshow(images[i].reshape((h, w , o)))\n",
    "        plt.xticks(())\n",
    "        plt.yticks(())"
   ]
  },
  {
   "cell_type": "code",
   "execution_count": 15,
   "id": "b7d4ee21",
   "metadata": {
    "id": "b7d4ee21"
   },
   "outputs": [],
   "source": [
    "X_train = np.append(Ak_train , Ala_Idris_train) # , Buzgulu_train , Dimnit_train , Nazli_train\n",
    "X_train = np.append(X_train , Buzgulu_train)\n",
    "X_train = np.append(X_train , Dimnit_train)\n",
    "X_train = np.append(X_train , Nazli_train)"
   ]
  },
  {
   "cell_type": "markdown",
   "id": "3sOVOlkgeT67",
   "metadata": {
    "id": "3sOVOlkgeT67"
   },
   "source": [
    "## plot some pictures. you can see some generated pictures among them."
   ]
  },
  {
   "cell_type": "code",
   "execution_count": 16,
   "id": "b5ffaddb",
   "metadata": {
    "colab": {
     "base_uri": "https://localhost:8080/",
     "height": 461
    },
    "id": "b5ffaddb",
    "outputId": "e636a002-f6a2-4fee-fddc-177a8cb6d44b"
   },
   "outputs": [
    {
     "data": {
      "text/plain": [
       "(12285, 70, 70, 3)"
      ]
     },
     "execution_count": 16,
     "metadata": {},
     "output_type": "execute_result"
    },
    {
     "data": {
      "image/png": "[encoded data removed]",
      "text/plain": [
       "<Figure size 518.4x518.4 with 12 Axes>"
      ]
     },
     "metadata": {},
     "output_type": "display_data"
    }
   ],
   "source": [
    "X_train = X_train.reshape(len(Ak_train)*5 , img_size ,img_size ,3)\n",
    "X_train.shape\n",
    "plot_gallery(X_train, img_size,img_size ,3 )\n",
    "X_train.shape"
   ]
  },
  {
   "cell_type": "code",
   "execution_count": 17,
   "id": "7bdb8b41",
   "metadata": {
    "colab": {
     "base_uri": "https://localhost:8080/"
    },
    "id": "7bdb8b41",
    "outputId": "a2da2166-2080-46ab-90e3-0451f838ac9f"
   },
   "outputs": [
    {
     "data": {
      "text/plain": [
       "(12285,)"
      ]
     },
     "execution_count": 17,
     "metadata": {},
     "output_type": "execute_result"
    }
   ],
   "source": [
    "Y_train = []\n",
    "for i in range(5):\n",
    "    for j in range (len(Ak_train)):\n",
    "        Y_train.append(i)\n",
    "Y_train = np.array(Y_train)\n",
    "Y_train.shape"
   ]
  },
  {
   "cell_type": "code",
   "execution_count": 18,
   "id": "bb78cc60",
   "metadata": {
    "id": "bb78cc60"
   },
   "outputs": [],
   "source": [
    "X_validation = np.append(Ak_Validation , Ala_Idris_Validation) # , Buzgulu_train , Dimnit_train , Nazli_train\n",
    "X_validation = np.append(X_validation , Buzgulu_Validation)\n",
    "X_validation = np.append(X_validation , Dimnit_Validation)\n",
    "X_validation = np.append(X_validation , Nazli_Validation)"
   ]
  },
  {
   "cell_type": "code",
   "execution_count": 19,
   "id": "2f69f96e",
   "metadata": {
    "colab": {
     "base_uri": "https://localhost:8080/"
    },
    "id": "2f69f96e",
    "outputId": "6fed6a6e-2c53-46d5-fc7d-e8ce516d2d5d"
   },
   "outputs": [
    {
     "data": {
      "text/plain": [
       "(3115, 70, 70, 3)"
      ]
     },
     "execution_count": 19,
     "metadata": {},
     "output_type": "execute_result"
    }
   ],
   "source": [
    "X_validation = X_validation.reshape(len(Ak_Validation)*5 , img_size ,img_size ,3)\n",
    "X_validation.shape"
   ]
  },
  {
   "cell_type": "code",
   "execution_count": 20,
   "id": "Z0z_yzWk2YSj",
   "metadata": {
    "colab": {
     "base_uri": "https://localhost:8080/"
    },
    "id": "Z0z_yzWk2YSj",
    "outputId": "b602bb90-41ee-4133-c8bf-36e8c5c5dce1"
   },
   "outputs": [
    {
     "data": {
      "text/plain": [
       "(20, 70, 70, 3)"
      ]
     },
     "execution_count": 20,
     "metadata": {},
     "output_type": "execute_result"
    }
   ],
   "source": [
    "Ala_Idris_test.shape"
   ]
  },
  {
   "cell_type": "code",
   "execution_count": 21,
   "id": "Bv3v4XBUzzVG",
   "metadata": {
    "id": "Bv3v4XBUzzVG"
   },
   "outputs": [],
   "source": [
    "X_test = np.append(Ak_test , Ala_Idris_test) # , Buzgulu_train , Dimnit_train , Nazli_train\n",
    "X_test = np.append(X_test , Buzgulu_test)\n",
    "X_test = np.append(X_test , Dimnit_test)\n",
    "X_test = np.append(X_test , Nazli_test)"
   ]
  },
  {
   "cell_type": "code",
   "execution_count": 22,
   "id": "3mqp7_L_11Lp",
   "metadata": {
    "colab": {
     "base_uri": "https://localhost:8080/"
    },
    "id": "3mqp7_L_11Lp",
    "outputId": "67e8a81b-f3af-44ae-cd21-45dd596797c2"
   },
   "outputs": [
    {
     "data": {
      "text/plain": [
       "(100, 70, 70, 3)"
      ]
     },
     "execution_count": 22,
     "metadata": {},
     "output_type": "execute_result"
    }
   ],
   "source": [
    "X_test = X_test.reshape(len(Ak_test)*5 , img_size ,img_size ,3)\n",
    "X_test.shape"
   ]
  },
  {
   "cell_type": "code",
   "execution_count": null,
   "id": "drkxRUGi2GbG",
   "metadata": {
    "colab": {
     "base_uri": "https://localhost:8080/"
    },
    "id": "drkxRUGi2GbG",
    "outputId": "960551d8-2d36-49c6-ac29-3d4975e5a537"
   },
   "outputs": [
    {
     "name": "stdout",
     "output_type": "stream",
     "text": [
      "12470.0\n"
     ]
    }
   ],
   "source": [
    "\n",
    "print(374100000 /(100*100*3) )\n"
   ]
  },
  {
   "cell_type": "code",
   "execution_count": 23,
   "id": "zUrKcjwi0VeL",
   "metadata": {
    "colab": {
     "base_uri": "https://localhost:8080/"
    },
    "id": "zUrKcjwi0VeL",
    "outputId": "9aefd349-7a77-483c-a431-c14a1a3b9749"
   },
   "outputs": [
    {
     "data": {
      "text/plain": [
       "(100,)"
      ]
     },
     "execution_count": 23,
     "metadata": {},
     "output_type": "execute_result"
    }
   ],
   "source": [
    "Y_test = []\n",
    "for i in range(5):\n",
    "    for j in range (len(Ak_test)):\n",
    "        Y_test.append(i)\n",
    "Y_test = np.array(Y_test)\n",
    "Y_test.shape"
   ]
  },
  {
   "cell_type": "code",
   "execution_count": 24,
   "id": "kyGJgzpwnrr1",
   "metadata": {
    "id": "kyGJgzpwnrr1"
   },
   "outputs": [],
   "source": [
    "X_train_normal = X_train / 255\n",
    "X_validation_normal = X_validation / 255\n",
    "X_test = X_test /255"
   ]
  },
  {
   "cell_type": "markdown",
   "id": "PMwYAHIC3Hjf",
   "metadata": {
    "id": "PMwYAHIC3Hjf"
   },
   "source": [
    "## add noise to data for train auto encoder denoising"
   ]
  },
  {
   "cell_type": "code",
   "execution_count": null,
   "id": "q2LQqUPtWqal",
   "metadata": {
    "id": "q2LQqUPtWqal"
   },
   "outputs": [],
   "source": [
    "noise_factor = -0.3\n",
    "x_train_noisy = X_train_normal + noise_factor * abs(np.random.normal(loc=0.0, scale=1.0, size=X_train.shape) )\n",
    "x_test_noisy = X_validation_normal + noise_factor * abs( np.random.normal(loc=0.0, scale=1.0, size=X_validation.shape) )\n",
    "\n"
   ]
  },
  {
   "cell_type": "markdown",
   "id": "HA1SyCiFyQU1",
   "metadata": {
    "id": "HA1SyCiFyQU1"
   },
   "source": [
    "#Auto encoder\n",
    "\n",
    "اینجا من ترین نمیکنم اینو چون کولب هر بار به لیمیت میرسه و نمیزاره ادامه بدم.\n",
    "ولی روند و کد درسته.این مدل باید با ایپاک 50 تایی حداقل ترین بشه و یاد بگیره.\n",
    "و بعدش میام اضافه میکنم این مدل رو به ابتدای مدل سکوانشالم که در ادامه هست.\n",
    "با اینکار باعث میشم که دیتاهای نویزی هم به دیتاها اضافه بشه. والبته که دینویز میشه توی لایه اول توسط این اوتو انکودر\n"
   ]
  },
  {
   "cell_type": "code",
   "execution_count": null,
   "id": "_pC7pFoyfTpF",
   "metadata": {
    "id": "_pC7pFoyfTpF"
   },
   "outputs": [],
   "source": [
    "def denosing_autoencoder(x_train_normal , x_train_normal_noisy, eps, optimizer, noise):\n",
    "\n",
    "  model = Sequential()\n",
    "  # encoder network\n",
    "  model.add(Conv2D(60, 3, activation= 'relu', padding='same', input_shape = (img_size,img_size,3)))\n",
    "  model.add(AveragePooling2D(2, padding= 'same'))\n",
    "  model.add(Conv2D(30, 3, activation= 'relu', padding='same'))\n",
    "  model.add(AveragePooling2D(2, padding= 'same'))\n",
    "\n",
    "  # model.add(Dense(512,activation='relu'))\n",
    "  #decoder network\n",
    "  model.add(Conv2DTranspose(30, 3, activation= 'relu', padding='same'))\n",
    "  model.add(UpSampling2D(2))\n",
    "  model.add(Conv2DTranspose(60, 3, activation= 'relu', padding='same'))\n",
    "  model.add(UpSampling2D(2))\n",
    "  model.add(Conv2DTranspose(3,3,activation='sigmoid', padding= 'same')) # output layer\n",
    "  model.summary()\n",
    "\n",
    "  \n",
    "  model.compile(optimizer=optimizer,loss='mse',metrics=['accuracy'])\n",
    "\n",
    "  # history = model.fit(train_generator, train_generator, validation_split=0.2, epochs=eps)\n",
    "  # get_accuracy_plot(history)\n",
    "  # return model \n",
    "\n",
    "  for epoch in range(eps):\n",
    "\n",
    "    history = model.fit(\n",
    "      x_train_normal_noisy,\n",
    "      x_train_normal,\n",
    "      epochs=1, \n",
    "      # batch_size=32,\n",
    "      validation_split=0.10,\n",
    "      steps_per_epoch=5,\n",
    "        )   \n",
    "  # model.evaluate(X_test, y_test)\n",
    "  model.predict(X_train_normal)\n",
    "  # fitted_model = model.fit(train, train, validation_split=0.2, epochs=eps)\n",
    "  # get_accuracy_plot(history)\n",
    "  return model"
   ]
  },
  {
   "cell_type": "code",
   "execution_count": null,
   "id": "aQD71Q2DuPT_",
   "metadata": {
    "id": "aQD71Q2DuPT_"
   },
   "outputs": [],
   "source": [
    "\n",
    "autoencoder = denosing_autoencoder(X_train_normal,x_train_noisy, eps=30, optimizer=Adam(lr=0.001), noise=0.5)"
   ]
  },
  {
   "cell_type": "markdown",
   "id": "a6EPXD-D3SIP",
   "metadata": {
    "id": "a6EPXD-D3SIP"
   },
   "source": [
    "#important about auto encoder\n",
    "چون ترینش نکردم، داده رو نمیدم بهش و خروجی بگیرم و اضافه کنم به داده های ترینم.\n",
    "ولی اگه کولب اوکی بود اینکارو میکردم و ازینجا به بعد با مقدار داده دو برابر ادامه میدادم.\n",
    "\n",
    "> Indented block\n",
    "\n"
   ]
  },
  {
   "cell_type": "code",
   "execution_count": 25,
   "id": "af8f361d",
   "metadata": {
    "colab": {
     "base_uri": "https://localhost:8080/"
    },
    "id": "af8f361d",
    "outputId": "6a7cdb51-cc72-4eab-cdce-457f576b2000"
   },
   "outputs": [
    {
     "data": {
      "text/plain": [
       "(3115,)"
      ]
     },
     "execution_count": 25,
     "metadata": {},
     "output_type": "execute_result"
    }
   ],
   "source": [
    "Y_validation = []\n",
    "for i in range(5):\n",
    "    for j in range (len(Ak_Validation)):\n",
    "        Y_validation.append(i)\n",
    "Y_validation = np.array(Y_validation)\n",
    "Y_validation.shape"
   ]
  },
  {
   "cell_type": "code",
   "execution_count": 26,
   "id": "K00wYHXZ1uwg",
   "metadata": {
    "id": "K00wYHXZ1uwg"
   },
   "outputs": [],
   "source": [
    "tf.keras.backend.clear_session()"
   ]
  },
  {
   "cell_type": "code",
   "execution_count": 33,
   "id": "b22e2d06",
   "metadata": {
    "id": "b22e2d06"
   },
   "outputs": [],
   "source": [
    "model = Sequential([\n",
    "    ZeroPadding2D(padding=(1,1), input_shape=(img_size,img_size,3)),\n",
    "    Conv2D(32,3 ,activation='relu'),\n",
    "    MaxPool2D(pool_size=2,strides=2),\n",
    "    ZeroPadding2D(padding=(1,1)),\n",
    "\n",
    "    Conv2D(32,3 , activation='relu'),\n",
    "    #remove max pooling\n",
    "    ZeroPadding2D(padding=(1,1)),\n",
    "\n",
    "    Conv2D(64,3 , activation='relu'),\n",
    "    MaxPool2D(pool_size=2 , strides=2),\n",
    "    ZeroPadding2D(padding=(1,1)),\n",
    "\n",
    "    Conv2D(128,3 , activation='relu'),\n",
    "    MaxPool2D(pool_size=2 , strides=2),\n",
    "\n",
    "\n",
    "    Flatten(),\n",
    "    \n",
    "    Dense(800 , activation='relu'),\n",
    "    Dense(5 , activation = 'softmax'),\n",
    "])"
   ]
  },
  {
   "cell_type": "code",
   "execution_count": 34,
   "id": "7471ffa1",
   "metadata": {
    "colab": {
     "base_uri": "https://localhost:8080/"
    },
    "id": "7471ffa1",
    "outputId": "4b4274df-a7d7-402b-a302-0dd016592bbd"
   },
   "outputs": [
    {
     "name": "stdout",
     "output_type": "stream",
     "text": [
      "Model: \"sequential_1\"\n",
      "_________________________________________________________________\n",
      " Layer (type)                Output Shape              Param #   \n",
      "=================================================================\n",
      " zero_padding2d_4 (ZeroPaddi  (None, 72, 72, 3)        0         \n",
      " ng2D)                                                           \n",
      "                                                                 \n",
      " conv2d_4 (Conv2D)           (None, 70, 70, 32)        896       \n",
      "                                                                 \n",
      " max_pooling2d_3 (MaxPooling  (None, 35, 35, 32)       0         \n",
      " 2D)                                                             \n",
      "                                                                 \n",
      " zero_padding2d_5 (ZeroPaddi  (None, 37, 37, 32)       0         \n",
      " ng2D)                                                           \n",
      "                                                                 \n",
      " conv2d_5 (Conv2D)           (None, 35, 35, 32)        9248      \n",
      "                                                                 \n",
      " zero_padding2d_6 (ZeroPaddi  (None, 37, 37, 32)       0         \n",
      " ng2D)                                                           \n",
      "                                                                 \n",
      " conv2d_6 (Conv2D)           (None, 35, 35, 64)        18496     \n",
      "                                                                 \n",
      " max_pooling2d_4 (MaxPooling  (None, 17, 17, 64)       0         \n",
      " 2D)                                                             \n",
      "                                                                 \n",
      " zero_padding2d_7 (ZeroPaddi  (None, 19, 19, 64)       0         \n",
      " ng2D)                                                           \n",
      "                                                                 \n",
      " conv2d_7 (Conv2D)           (None, 17, 17, 128)       73856     \n",
      "                                                                 \n",
      " max_pooling2d_5 (MaxPooling  (None, 8, 8, 128)        0         \n",
      " 2D)                                                             \n",
      "                                                                 \n",
      " flatten_1 (Flatten)         (None, 8192)              0         \n",
      "                                                                 \n",
      " dense_2 (Dense)             (None, 800)               6554400   \n",
      "                                                                 \n",
      " dense_3 (Dense)             (None, 5)                 4005      \n",
      "                                                                 \n",
      "=================================================================\n",
      "Total params: 6,660,901\n",
      "Trainable params: 6,660,901\n",
      "Non-trainable params: 0\n",
      "_________________________________________________________________\n"
     ]
    }
   ],
   "source": [
    "model.summary()"
   ]
  },
  {
   "cell_type": "code",
   "execution_count": null,
   "id": "2vWpCqvX1iZF",
   "metadata": {
    "id": "2vWpCqvX1iZF"
   },
   "outputs": [],
   "source": []
  },
  {
   "cell_type": "code",
   "execution_count": 35,
   "id": "20c2acd2",
   "metadata": {
    "id": "20c2acd2"
   },
   "outputs": [],
   "source": [
    "model.compile('adam' , loss='categorical_crossentropy' , metrics = ['accuracy'])"
   ]
  },
  {
   "cell_type": "code",
   "execution_count": 36,
   "id": "314f84d8",
   "metadata": {
    "id": "314f84d8"
   },
   "outputs": [],
   "source": [
    "Y_train_ohe = to_categorical(Y_train)\n",
    "Y_validation_ohe = to_categorical (Y_validation)\n",
    "Y_test_ohe = to_categorical (Y_test)"
   ]
  },
  {
   "cell_type": "code",
   "execution_count": 37,
   "id": "09596175",
   "metadata": {
    "colab": {
     "base_uri": "https://localhost:8080/"
    },
    "id": "09596175",
    "outputId": "a80d88f6-56bb-4598-ab8d-f81b33620c5e"
   },
   "outputs": [
    {
     "data": {
      "text/plain": [
       "array([[1., 0., 0., 0., 0.],\n",
       "       [1., 0., 0., 0., 0.],\n",
       "       [1., 0., 0., 0., 0.],\n",
       "       ...,\n",
       "       [0., 0., 0., 0., 1.],\n",
       "       [0., 0., 0., 0., 1.],\n",
       "       [0., 0., 0., 0., 1.]], dtype=float32)"
      ]
     },
     "execution_count": 37,
     "metadata": {},
     "output_type": "execute_result"
    }
   ],
   "source": [
    "Y_train_ohe"
   ]
  },
  {
   "cell_type": "code",
   "execution_count": 38,
   "id": "71aab113",
   "metadata": {
    "colab": {
     "base_uri": "https://localhost:8080/"
    },
    "id": "71aab113",
    "outputId": "1118341e-c09e-45a2-ca06-308f972def1d"
   },
   "outputs": [
    {
     "name": "stdout",
     "output_type": "stream",
     "text": [
      "Epoch 1/30\n",
      "384/384 [==============================] - 6s 13ms/step - loss: 1.4855 - accuracy: 0.3175 - val_loss: 1.1134 - val_accuracy: 0.5490\n",
      "Epoch 2/30\n",
      "384/384 [==============================] - 5s 12ms/step - loss: 0.8482 - accuracy: 0.6595 - val_loss: 0.7040 - val_accuracy: 0.7059\n",
      "Epoch 3/30\n",
      "384/384 [==============================] - 5s 12ms/step - loss: 0.4906 - accuracy: 0.7914 - val_loss: 0.5970 - val_accuracy: 0.7525\n",
      "Epoch 4/30\n",
      "384/384 [==============================] - 5s 12ms/step - loss: 0.3441 - accuracy: 0.8406 - val_loss: 0.6659 - val_accuracy: 0.7496\n",
      "Epoch 5/30\n",
      "384/384 [==============================] - 5s 12ms/step - loss: 0.3035 - accuracy: 0.8567 - val_loss: 0.6599 - val_accuracy: 0.7711\n",
      "Epoch 6/30\n",
      "384/384 [==============================] - 5s 12ms/step - loss: 0.2926 - accuracy: 0.8606 - val_loss: 0.7351 - val_accuracy: 0.7570\n",
      "Epoch 7/30\n",
      "384/384 [==============================] - 6s 16ms/step - loss: 0.2903 - accuracy: 0.8603 - val_loss: 0.7340 - val_accuracy: 0.7650\n",
      "Epoch 8/30\n",
      "384/384 [==============================] - 5s 12ms/step - loss: 0.2881 - accuracy: 0.8600 - val_loss: 0.8172 - val_accuracy: 0.7650\n",
      "Epoch 9/30\n",
      "384/384 [==============================] - 5s 12ms/step - loss: 0.2779 - accuracy: 0.8652 - val_loss: 0.7362 - val_accuracy: 0.7833\n",
      "Epoch 10/30\n",
      "384/384 [==============================] - 5s 12ms/step - loss: 0.2784 - accuracy: 0.8640 - val_loss: 0.7671 - val_accuracy: 0.7634\n",
      "Epoch 11/30\n",
      "384/384 [==============================] - 5s 12ms/step - loss: 0.2843 - accuracy: 0.8632 - val_loss: 0.7620 - val_accuracy: 0.7737\n",
      "Epoch 12/30\n",
      "384/384 [==============================] - 5s 12ms/step - loss: 0.2714 - accuracy: 0.8672 - val_loss: 0.8975 - val_accuracy: 0.7698\n",
      "Epoch 13/30\n",
      "384/384 [==============================] - 5s 12ms/step - loss: 0.2837 - accuracy: 0.8627 - val_loss: 0.7383 - val_accuracy: 0.7743\n",
      "Epoch 14/30\n",
      "384/384 [==============================] - 5s 12ms/step - loss: 0.2699 - accuracy: 0.8669 - val_loss: 0.8163 - val_accuracy: 0.7823\n",
      "Epoch 15/30\n",
      "384/384 [==============================] - 5s 12ms/step - loss: 0.2729 - accuracy: 0.8684 - val_loss: 0.8654 - val_accuracy: 0.7679\n",
      "Epoch 16/30\n",
      "384/384 [==============================] - 5s 13ms/step - loss: 0.2784 - accuracy: 0.8630 - val_loss: 0.8769 - val_accuracy: 0.7663\n",
      "Epoch 17/30\n",
      "384/384 [==============================] - 5s 13ms/step - loss: 0.2758 - accuracy: 0.8650 - val_loss: 0.8401 - val_accuracy: 0.7714\n",
      "Epoch 18/30\n",
      "384/384 [==============================] - 5s 13ms/step - loss: 0.2678 - accuracy: 0.8691 - val_loss: 0.7683 - val_accuracy: 0.7746\n",
      "Epoch 19/30\n",
      "384/384 [==============================] - 5s 13ms/step - loss: 0.2662 - accuracy: 0.8698 - val_loss: 0.9563 - val_accuracy: 0.7753\n",
      "Epoch 20/30\n",
      "384/384 [==============================] - 5s 13ms/step - loss: 0.2742 - accuracy: 0.8650 - val_loss: 0.7876 - val_accuracy: 0.7772\n",
      "Epoch 21/30\n",
      "384/384 [==============================] - 5s 12ms/step - loss: 0.2700 - accuracy: 0.8655 - val_loss: 0.8193 - val_accuracy: 0.7717\n",
      "Epoch 22/30\n",
      "384/384 [==============================] - 5s 12ms/step - loss: 0.2664 - accuracy: 0.8673 - val_loss: 0.8193 - val_accuracy: 0.7769\n",
      "Epoch 23/30\n",
      "384/384 [==============================] - 5s 12ms/step - loss: 0.2654 - accuracy: 0.8667 - val_loss: 0.7859 - val_accuracy: 0.7730\n",
      "Epoch 24/30\n",
      "384/384 [==============================] - 5s 12ms/step - loss: 0.2705 - accuracy: 0.8657 - val_loss: 0.9009 - val_accuracy: 0.7647\n",
      "Epoch 25/30\n",
      "384/384 [==============================] - 5s 12ms/step - loss: 0.2630 - accuracy: 0.8688 - val_loss: 0.8248 - val_accuracy: 0.7785\n",
      "Epoch 26/30\n",
      "384/384 [==============================] - 5s 13ms/step - loss: 0.2697 - accuracy: 0.8636 - val_loss: 0.8661 - val_accuracy: 0.7785\n",
      "Epoch 27/30\n",
      "384/384 [==============================] - 5s 13ms/step - loss: 0.2681 - accuracy: 0.8706 - val_loss: 0.8766 - val_accuracy: 0.7753\n",
      "Epoch 28/30\n",
      "384/384 [==============================] - 5s 12ms/step - loss: 0.2655 - accuracy: 0.8678 - val_loss: 0.9489 - val_accuracy: 0.7782\n",
      "Epoch 29/30\n",
      "384/384 [==============================] - 5s 12ms/step - loss: 0.2689 - accuracy: 0.8670 - val_loss: 0.8740 - val_accuracy: 0.7711\n",
      "Epoch 30/30\n",
      "384/384 [==============================] - 5s 12ms/step - loss: 0.2681 - accuracy: 0.8662 - val_loss: 0.8086 - val_accuracy: 0.7778\n"
     ]
    }
   ],
   "source": [
    "history = model.fit(X_train_normal , Y_train_ohe , epochs=30 , validation_data= (X_validation_normal , Y_validation_ohe) )"
   ]
  },
  {
   "cell_type": "code",
   "execution_count": null,
   "id": "jbHYb5vzPRBK",
   "metadata": {
    "id": "jbHYb5vzPRBK"
   },
   "outputs": [],
   "source": []
  },
  {
   "cell_type": "code",
   "execution_count": 39,
   "id": "u81OPu61zJz4",
   "metadata": {
    "colab": {
     "base_uri": "https://localhost:8080/",
     "height": 435
    },
    "id": "u81OPu61zJz4",
    "outputId": "7534cbb3-0636-4e0d-f10c-14fa9cf3674c"
   },
   "outputs": [
    {
     "data": {
      "image/png": "[encoded data removed]",
      "text/plain": [
       "<Figure size 1080x1080 with 2 Axes>"
      ]
     },
     "metadata": {
      "needs_background": "light"
     },
     "output_type": "display_data"
    }
   ],
   "source": [
    "acc = history.history['accuracy']\n",
    "val_acc = history.history['val_accuracy']\n",
    "loss = history.history['loss']\n",
    "val_loss = history.history['val_loss']\n",
    "\n",
    "epochs_range = range(30)\n",
    "\n",
    "plt.figure(figsize=(15, 15))\n",
    "plt.subplot(2, 2, 1)\n",
    "plt.plot(epochs_range, acc, label='Training Accuracy')\n",
    "plt.plot(epochs_range, val_acc, label='Validation Accuracy')\n",
    "plt.legend(loc='lower right')\n",
    "plt.title('Training and Validation Accuracy')\n",
    "\n",
    "plt.subplot(2, 2, 2)\n",
    "plt.plot(epochs_range, loss, label='Training Loss')\n",
    "plt.plot(epochs_range, val_loss, label='Validation Loss')\n",
    "plt.legend(loc='upper right')\n",
    "plt.title('Training and Validation Loss')\n",
    "plt.show()"
   ]
  },
  {
   "cell_type": "code",
   "execution_count": 40,
   "id": "307snkkMzfUS",
   "metadata": {
    "id": "307snkkMzfUS"
   },
   "outputs": [],
   "source": [
    "CNN_model_predict = model.predict(X_test)"
   ]
  },
  {
   "cell_type": "code",
   "execution_count": 41,
   "id": "CWcmKDMi7so1",
   "metadata": {
    "colab": {
     "base_uri": "https://localhost:8080/"
    },
    "id": "CWcmKDMi7so1",
    "outputId": "efb80d95-cf95-49e4-bb73-6ccc39918e03"
   },
   "outputs": [
    {
     "data": {
      "text/plain": [
       "(100, 70, 70, 3)"
      ]
     },
     "execution_count": 41,
     "metadata": {},
     "output_type": "execute_result"
    }
   ],
   "source": [
    "X_test.shape"
   ]
  },
  {
   "cell_type": "code",
   "execution_count": 42,
   "id": "gt08EpKT8guq",
   "metadata": {
    "colab": {
     "base_uri": "https://localhost:8080/"
    },
    "id": "gt08EpKT8guq",
    "outputId": "7a0c254a-4ab7-4dcc-88ff-bbaabad50c65"
   },
   "outputs": [
    {
     "data": {
      "text/plain": [
       "(100,)"
      ]
     },
     "execution_count": 42,
     "metadata": {},
     "output_type": "execute_result"
    }
   ],
   "source": [
    "Y_test.shape"
   ]
  },
  {
   "cell_type": "code",
   "execution_count": 43,
   "id": "hdFF75PohLu5",
   "metadata": {
    "colab": {
     "base_uri": "https://localhost:8080/"
    },
    "id": "hdFF75PohLu5",
    "outputId": "51909936-495c-4619-aa8e-6fb4522dff10"
   },
   "outputs": [
    {
     "name": "stdout",
     "output_type": "stream",
     "text": [
      "4/4 - 0s - loss: 1.6952 - accuracy: 0.7700 - 36ms/epoch - 9ms/step\n",
      "\n",
      "Test accuracy :  0.7699999809265137  Test loss :  1.6951605081558228\n"
     ]
    }
   ],
   "source": [
    "test_cnn_loss, test_cnn_acc = model.evaluate(X_test, Y_test_ohe, verbose = 2)\n",
    "print(\"\\nTest accuracy : \", test_cnn_acc, \" Test loss : \", test_cnn_loss)"
   ]
  },
  {
   "cell_type": "code",
   "execution_count": 44,
   "id": "O-OOet-Kziuo",
   "metadata": {
    "colab": {
     "base_uri": "https://localhost:8080/",
     "height": 532
    },
    "id": "O-OOet-Kziuo",
    "outputId": "0927d771-6568-49f3-c0c1-83b37ef9566d"
   },
   "outputs": [
    {
     "data": {
      "image/png": "[encoded data removed]",
      "text/plain": [
       "<Figure size 576x576 with 1 Axes>"
      ]
     },
     "metadata": {
      "needs_background": "light"
     },
     "output_type": "display_data"
    }
   ],
   "source": [
    "import sklearn\n",
    "cnn_y_pred = np.argmax(CNN_model_predict, axis=1)\n",
    "cnn_y_test = Y_test\n",
    "\n",
    "confusion_matrix_cnn = sklearn.metrics.confusion_matrix(y_pred = cnn_y_pred, y_true = cnn_y_test)\n",
    "fig, ax = plt.subplots(figsize=(8, 8))\n",
    "ax.matshow(confusion_matrix_cnn, cmap=plt.cm.Blues, alpha=.3)\n",
    "for i in range(confusion_matrix_cnn.shape[0]):\n",
    "  for j in range(confusion_matrix_cnn.shape[1]):\n",
    "    ax.text(x=j, y=i, s = confusion_matrix_cnn[i, j], va=\"center\", ha=\"center\", size = \"xx-large\")\n",
    "plt.xlabel(\"predictions\", fontsize=20)\n",
    "plt.ylabel(\"actuals\", fontsize=20)\n",
    "plt.title(\"CNN Model Confusion matrix\", fontsize = 20)\n",
    "plt.show()"
   ]
  },
  {
   "cell_type": "markdown",
   "id": "IeVY8bWiDF1U",
   "metadata": {
    "id": "IeVY8bWiDF1U"
   },
   "source": [
    "# accuracy , precision , recall , f1-score\n",
    "\n",
    "میبنیم که همه ی مقادیر قابل اتقا هستند و مدل به خوبی عمل کرده است"
   ]
  },
  {
   "cell_type": "code",
   "execution_count": null,
   "id": "l_Vg8uzsC7TF",
   "metadata": {
    "colab": {
     "base_uri": "https://localhost:8080/"
    },
    "id": "l_Vg8uzsC7TF",
    "outputId": "e06eac72-93a6-4761-9ec7-28b2da008321"
   },
   "outputs": [
    {
     "name": "stdout",
     "output_type": "stream",
     "text": [
      "              precision    recall  f1-score   support\n",
      "\n",
      "           0       0.77      1.00      0.87        20\n",
      "           1       0.88      0.70      0.78        20\n",
      "           2       0.71      0.85      0.77        20\n",
      "           3       0.82      0.45      0.58        20\n",
      "           4       0.74      0.85      0.79        20\n",
      "\n",
      "    accuracy                           0.77       100\n",
      "   macro avg       0.78      0.77      0.76       100\n",
      "weighted avg       0.78      0.77      0.76       100\n",
      "\n"
     ]
    }
   ],
   "source": [
    "print(classification_report(cnn_y_test, cnn_y_pred))"
   ]
  },
  {
   "cell_type": "markdown",
   "id": "ycJQXcISEEGC",
   "metadata": {
    "id": "ycJQXcISEEGC"
   },
   "source": [
    "# ResNet50"
   ]
  },
  {
   "cell_type": "code",
   "execution_count": null,
   "id": "SM54--S90BV4",
   "metadata": {
    "id": "SM54--S90BV4"
   },
   "outputs": [],
   "source": [
    "base_model =  keras.applications.ResNet50(\n",
    "    include_top=False,\n",
    "    weights=\"imagenet\",\n",
    "    input_tensor=None,\n",
    "    input_shape=(img_size,img_size,3),\n",
    "    pooling=None,\n",
    "    classes=1000,\n",
    ")\n"
   ]
  },
  {
   "cell_type": "code",
   "execution_count": null,
   "id": "4uSrzB4Z31BS",
   "metadata": {
    "id": "4uSrzB4Z31BS"
   },
   "outputs": [],
   "source": [
    "base_model.trainable = False\n"
   ]
  },
  {
   "cell_type": "code",
   "execution_count": null,
   "id": "Jdo0IG_WxF5k",
   "metadata": {
    "id": "Jdo0IG_WxF5k"
   },
   "outputs": [],
   "source": [
    "model2 = Sequential([\n",
    "   base_model,\n",
    "\n",
    "    Flatten(),\n",
    "        \n",
    "    Dense(700 , activation='relu'),\n",
    "\n",
    "    Dense(5 , activation = 'softmax'),\n",
    "])"
   ]
  },
  {
   "cell_type": "code",
   "execution_count": null,
   "id": "8X-vYzQq4k0y",
   "metadata": {
    "colab": {
     "base_uri": "https://localhost:8080/"
    },
    "id": "8X-vYzQq4k0y",
    "outputId": "86f095cd-32cd-4869-a658-e4f350fc4fd4"
   },
   "outputs": [
    {
     "name": "stdout",
     "output_type": "stream",
     "text": [
      "Model: \"sequential_3\"\n",
      "_________________________________________________________________\n",
      " Layer (type)                Output Shape              Param #   \n",
      "=================================================================\n",
      " resnet50 (Functional)       (None, 3, 3, 2048)        23587712  \n",
      "                                                                 \n",
      " flatten_3 (Flatten)         (None, 18432)             0         \n",
      "                                                                 \n",
      " dense_6 (Dense)             (None, 700)               12903100  \n",
      "                                                                 \n",
      " dense_7 (Dense)             (None, 5)                 3505      \n",
      "                                                                 \n",
      "=================================================================\n",
      "Total params: 36,494,317\n",
      "Trainable params: 12,906,605\n",
      "Non-trainable params: 23,587,712\n",
      "_________________________________________________________________\n"
     ]
    }
   ],
   "source": [
    "model2.summary()"
   ]
  },
  {
   "cell_type": "code",
   "execution_count": null,
   "id": "u7-LFEuO4lkI",
   "metadata": {
    "id": "u7-LFEuO4lkI"
   },
   "outputs": [],
   "source": [
    "model2.compile('adam' , loss='categorical_crossentropy' , metrics = ['accuracy'])"
   ]
  },
  {
   "cell_type": "markdown",
   "id": "wOWzoGzOEasH",
   "metadata": {
    "id": "wOWzoGzOEasH"
   },
   "source": [
    "# Suspend training\n",
    "\n",
    "در مورد این مدل، چون مدل بزرگیست، طول میکشه و ایپاکای زیادی نیاز داره اما دقتش به خوبی هی داره افزایش پیدا میکنه.اما به دلیل محدودیت کلب تا همین 15 ایپاک نمایش دادم اینجا."
   ]
  },
  {
   "cell_type": "code",
   "execution_count": null,
   "id": "gE9EQY_y4gwZ",
   "metadata": {
    "colab": {
     "base_uri": "https://localhost:8080/",
     "height": 867
    },
    "id": "gE9EQY_y4gwZ",
    "outputId": "00aafcc5-370e-4880-b48b-d8befb75e602"
   },
   "outputs": [
    {
     "name": "stdout",
     "output_type": "stream",
     "text": [
      "Epoch 1/30\n",
      "392/392 [==============================] - 16s 33ms/step - loss: 1.5822 - accuracy: 0.3332 - val_loss: 1.4350 - val_accuracy: 0.3695\n",
      "Epoch 2/30\n",
      "392/392 [==============================] - 11s 28ms/step - loss: 1.3788 - accuracy: 0.3996 - val_loss: 1.3381 - val_accuracy: 0.3834\n",
      "Epoch 3/30\n",
      "392/392 [==============================] - 12s 31ms/step - loss: 1.3514 - accuracy: 0.4108 - val_loss: 1.3782 - val_accuracy: 0.4076\n",
      "Epoch 4/30\n",
      "392/392 [==============================] - 12s 30ms/step - loss: 1.3023 - accuracy: 0.4378 - val_loss: 1.2700 - val_accuracy: 0.4513\n",
      "Epoch 5/30\n",
      "392/392 [==============================] - 12s 32ms/step - loss: 1.2658 - accuracy: 0.4561 - val_loss: 1.2506 - val_accuracy: 0.4627\n",
      "Epoch 6/30\n",
      "392/392 [==============================] - 13s 33ms/step - loss: 1.2252 - accuracy: 0.4735 - val_loss: 1.8446 - val_accuracy: 0.2936\n",
      "Epoch 7/30\n",
      "392/392 [==============================] - 11s 29ms/step - loss: 1.2262 - accuracy: 0.4777 - val_loss: 1.2247 - val_accuracy: 0.4641\n",
      "Epoch 8/30\n",
      "392/392 [==============================] - 12s 32ms/step - loss: 1.1702 - accuracy: 0.5054 - val_loss: 1.1729 - val_accuracy: 0.5064\n",
      "Epoch 9/30\n",
      "392/392 [==============================] - 11s 29ms/step - loss: 1.1541 - accuracy: 0.5145 - val_loss: 1.1755 - val_accuracy: 0.5040\n",
      "Epoch 10/30\n",
      "392/392 [==============================] - 13s 32ms/step - loss: 1.1475 - accuracy: 0.5169 - val_loss: 1.2847 - val_accuracy: 0.4582\n",
      "Epoch 11/30\n",
      "392/392 [==============================] - 12s 31ms/step - loss: 1.1328 - accuracy: 0.5261 - val_loss: 1.1285 - val_accuracy: 0.5182\n",
      "Epoch 12/30\n",
      "392/392 [==============================] - 12s 30ms/step - loss: 1.1065 - accuracy: 0.5372 - val_loss: 1.1336 - val_accuracy: 0.5113\n",
      "Epoch 13/30\n",
      "392/392 [==============================] - 12s 30ms/step - loss: 1.0754 - accuracy: 0.5507 - val_loss: 1.1134 - val_accuracy: 0.5289\n",
      "Epoch 14/30\n",
      "392/392 [==============================] - 12s 30ms/step - loss: 1.0560 - accuracy: 0.5595 - val_loss: 1.2620 - val_accuracy: 0.4645\n",
      "Epoch 15/30\n",
      "392/392 [==============================] - 12s 29ms/step - loss: 1.0499 - accuracy: 0.5689 - val_loss: 1.0919 - val_accuracy: 0.5300\n",
      "Epoch 16/30\n",
      "329/392 [========================>.....] - ETA: 1s - loss: 1.0391 - accuracy: 0.5650"
     ]
    },
    {
     "ename": "KeyboardInterrupt",
     "evalue": "ignored",
     "output_type": "error",
     "traceback": [
      "\u001b[0;31m---------------------------------------------------------------------------\u001b[0m",
      "\u001b[0;31mKeyboardInterrupt\u001b[0m                         Traceback (most recent call last)",
      "\u001b[0;32m<ipython-input-57-504b306ce53b>\u001b[0m in \u001b[0;36m<module>\u001b[0;34m()\u001b[0m\n\u001b[0;32m----> 1\u001b[0;31m \u001b[0mhistory\u001b[0m \u001b[0;34m=\u001b[0m \u001b[0mmodel2\u001b[0m\u001b[0;34m.\u001b[0m\u001b[0mfit\u001b[0m\u001b[0;34m(\u001b[0m\u001b[0mX_train_normal\u001b[0m \u001b[0;34m,\u001b[0m \u001b[0mY_train_ohe\u001b[0m \u001b[0;34m,\u001b[0m \u001b[0mepochs\u001b[0m\u001b[0;34m=\u001b[0m\u001b[0;36m30\u001b[0m \u001b[0;34m,\u001b[0m \u001b[0mvalidation_data\u001b[0m\u001b[0;34m=\u001b[0m \u001b[0;34m(\u001b[0m\u001b[0mX_validation_normal\u001b[0m \u001b[0;34m,\u001b[0m \u001b[0mY_validation_ohe\u001b[0m\u001b[0;34m)\u001b[0m \u001b[0;34m)\u001b[0m\u001b[0;34m\u001b[0m\u001b[0;34m\u001b[0m\u001b[0m\n\u001b[0m",
      "\u001b[0;32m/usr/local/lib/python3.7/dist-packages/keras/utils/traceback_utils.py\u001b[0m in \u001b[0;36merror_handler\u001b[0;34m(*args, **kwargs)\u001b[0m\n\u001b[1;32m     62\u001b[0m     \u001b[0mfiltered_tb\u001b[0m \u001b[0;34m=\u001b[0m \u001b[0;32mNone\u001b[0m\u001b[0;34m\u001b[0m\u001b[0;34m\u001b[0m\u001b[0m\n\u001b[1;32m     63\u001b[0m     \u001b[0;32mtry\u001b[0m\u001b[0;34m:\u001b[0m\u001b[0;34m\u001b[0m\u001b[0;34m\u001b[0m\u001b[0m\n\u001b[0;32m---> 64\u001b[0;31m       \u001b[0;32mreturn\u001b[0m \u001b[0mfn\u001b[0m\u001b[0;34m(\u001b[0m\u001b[0;34m*\u001b[0m\u001b[0margs\u001b[0m\u001b[0;34m,\u001b[0m \u001b[0;34m**\u001b[0m\u001b[0mkwargs\u001b[0m\u001b[0;34m)\u001b[0m\u001b[0;34m\u001b[0m\u001b[0;34m\u001b[0m\u001b[0m\n\u001b[0m\u001b[1;32m     65\u001b[0m     \u001b[0;32mexcept\u001b[0m \u001b[0mException\u001b[0m \u001b[0;32mas\u001b[0m \u001b[0me\u001b[0m\u001b[0;34m:\u001b[0m  \u001b[0;31m# pylint: disable=broad-except\u001b[0m\u001b[0;34m\u001b[0m\u001b[0;34m\u001b[0m\u001b[0m\n\u001b[1;32m     66\u001b[0m       \u001b[0mfiltered_tb\u001b[0m \u001b[0;34m=\u001b[0m \u001b[0m_process_traceback_frames\u001b[0m\u001b[0;34m(\u001b[0m\u001b[0me\u001b[0m\u001b[0;34m.\u001b[0m\u001b[0m__traceback__\u001b[0m\u001b[0;34m)\u001b[0m\u001b[0;34m\u001b[0m\u001b[0;34m\u001b[0m\u001b[0m\n",
      "\u001b[0;32m/usr/local/lib/python3.7/dist-packages/keras/engine/training.py\u001b[0m in \u001b[0;36mfit\u001b[0;34m(self, x, y, batch_size, epochs, verbose, callbacks, validation_split, validation_data, shuffle, class_weight, sample_weight, initial_epoch, steps_per_epoch, validation_steps, validation_batch_size, validation_freq, max_queue_size, workers, use_multiprocessing)\u001b[0m\n\u001b[1;32m   1387\u001b[0m               \u001b[0mlogs\u001b[0m \u001b[0;34m=\u001b[0m \u001b[0mtmp_logs\u001b[0m  \u001b[0;31m# No error, now safe to assign to logs.\u001b[0m\u001b[0;34m\u001b[0m\u001b[0;34m\u001b[0m\u001b[0m\n\u001b[1;32m   1388\u001b[0m               \u001b[0mend_step\u001b[0m \u001b[0;34m=\u001b[0m \u001b[0mstep\u001b[0m \u001b[0;34m+\u001b[0m \u001b[0mdata_handler\u001b[0m\u001b[0;34m.\u001b[0m\u001b[0mstep_increment\u001b[0m\u001b[0;34m\u001b[0m\u001b[0;34m\u001b[0m\u001b[0m\n\u001b[0;32m-> 1389\u001b[0;31m               \u001b[0mcallbacks\u001b[0m\u001b[0;34m.\u001b[0m\u001b[0mon_train_batch_end\u001b[0m\u001b[0;34m(\u001b[0m\u001b[0mend_step\u001b[0m\u001b[0;34m,\u001b[0m \u001b[0mlogs\u001b[0m\u001b[0;34m)\u001b[0m\u001b[0;34m\u001b[0m\u001b[0;34m\u001b[0m\u001b[0m\n\u001b[0m\u001b[1;32m   1390\u001b[0m               \u001b[0;32mif\u001b[0m \u001b[0mself\u001b[0m\u001b[0;34m.\u001b[0m\u001b[0mstop_training\u001b[0m\u001b[0;34m:\u001b[0m\u001b[0;34m\u001b[0m\u001b[0;34m\u001b[0m\u001b[0m\n\u001b[1;32m   1391\u001b[0m                 \u001b[0;32mbreak\u001b[0m\u001b[0;34m\u001b[0m\u001b[0;34m\u001b[0m\u001b[0m\n",
      "\u001b[0;32m/usr/local/lib/python3.7/dist-packages/keras/callbacks.py\u001b[0m in \u001b[0;36mon_train_batch_end\u001b[0;34m(self, batch, logs)\u001b[0m\n\u001b[1;32m    436\u001b[0m     \"\"\"\n\u001b[1;32m    437\u001b[0m     \u001b[0;32mif\u001b[0m \u001b[0mself\u001b[0m\u001b[0;34m.\u001b[0m\u001b[0m_should_call_train_batch_hooks\u001b[0m\u001b[0;34m:\u001b[0m\u001b[0;34m\u001b[0m\u001b[0;34m\u001b[0m\u001b[0m\n\u001b[0;32m--> 438\u001b[0;31m       \u001b[0mself\u001b[0m\u001b[0;34m.\u001b[0m\u001b[0m_call_batch_hook\u001b[0m\u001b[0;34m(\u001b[0m\u001b[0mModeKeys\u001b[0m\u001b[0;34m.\u001b[0m\u001b[0mTRAIN\u001b[0m\u001b[0;34m,\u001b[0m \u001b[0;34m'end'\u001b[0m\u001b[0;34m,\u001b[0m \u001b[0mbatch\u001b[0m\u001b[0;34m,\u001b[0m \u001b[0mlogs\u001b[0m\u001b[0;34m=\u001b[0m\u001b[0mlogs\u001b[0m\u001b[0;34m)\u001b[0m\u001b[0;34m\u001b[0m\u001b[0;34m\u001b[0m\u001b[0m\n\u001b[0m\u001b[1;32m    439\u001b[0m \u001b[0;34m\u001b[0m\u001b[0m\n\u001b[1;32m    440\u001b[0m   \u001b[0;32mdef\u001b[0m \u001b[0mon_test_batch_begin\u001b[0m\u001b[0;34m(\u001b[0m\u001b[0mself\u001b[0m\u001b[0;34m,\u001b[0m \u001b[0mbatch\u001b[0m\u001b[0;34m,\u001b[0m \u001b[0mlogs\u001b[0m\u001b[0;34m=\u001b[0m\u001b[0;32mNone\u001b[0m\u001b[0;34m)\u001b[0m\u001b[0;34m:\u001b[0m\u001b[0;34m\u001b[0m\u001b[0;34m\u001b[0m\u001b[0m\n",
      "\u001b[0;32m/usr/local/lib/python3.7/dist-packages/keras/callbacks.py\u001b[0m in \u001b[0;36m_call_batch_hook\u001b[0;34m(self, mode, hook, batch, logs)\u001b[0m\n\u001b[1;32m    295\u001b[0m       \u001b[0mself\u001b[0m\u001b[0;34m.\u001b[0m\u001b[0m_call_batch_begin_hook\u001b[0m\u001b[0;34m(\u001b[0m\u001b[0mmode\u001b[0m\u001b[0;34m,\u001b[0m \u001b[0mbatch\u001b[0m\u001b[0;34m,\u001b[0m \u001b[0mlogs\u001b[0m\u001b[0;34m)\u001b[0m\u001b[0;34m\u001b[0m\u001b[0;34m\u001b[0m\u001b[0m\n\u001b[1;32m    296\u001b[0m     \u001b[0;32melif\u001b[0m \u001b[0mhook\u001b[0m \u001b[0;34m==\u001b[0m \u001b[0;34m'end'\u001b[0m\u001b[0;34m:\u001b[0m\u001b[0;34m\u001b[0m\u001b[0;34m\u001b[0m\u001b[0m\n\u001b[0;32m--> 297\u001b[0;31m       \u001b[0mself\u001b[0m\u001b[0;34m.\u001b[0m\u001b[0m_call_batch_end_hook\u001b[0m\u001b[0;34m(\u001b[0m\u001b[0mmode\u001b[0m\u001b[0;34m,\u001b[0m \u001b[0mbatch\u001b[0m\u001b[0;34m,\u001b[0m \u001b[0mlogs\u001b[0m\u001b[0;34m)\u001b[0m\u001b[0;34m\u001b[0m\u001b[0;34m\u001b[0m\u001b[0m\n\u001b[0m\u001b[1;32m    298\u001b[0m     \u001b[0;32melse\u001b[0m\u001b[0;34m:\u001b[0m\u001b[0;34m\u001b[0m\u001b[0;34m\u001b[0m\u001b[0m\n\u001b[1;32m    299\u001b[0m       raise ValueError(\n",
      "\u001b[0;32m/usr/local/lib/python3.7/dist-packages/keras/callbacks.py\u001b[0m in \u001b[0;36m_call_batch_end_hook\u001b[0;34m(self, mode, batch, logs)\u001b[0m\n\u001b[1;32m    316\u001b[0m       \u001b[0mself\u001b[0m\u001b[0;34m.\u001b[0m\u001b[0m_batch_times\u001b[0m\u001b[0;34m.\u001b[0m\u001b[0mappend\u001b[0m\u001b[0;34m(\u001b[0m\u001b[0mbatch_time\u001b[0m\u001b[0;34m)\u001b[0m\u001b[0;34m\u001b[0m\u001b[0;34m\u001b[0m\u001b[0m\n\u001b[1;32m    317\u001b[0m \u001b[0;34m\u001b[0m\u001b[0m\n\u001b[0;32m--> 318\u001b[0;31m     \u001b[0mself\u001b[0m\u001b[0;34m.\u001b[0m\u001b[0m_call_batch_hook_helper\u001b[0m\u001b[0;34m(\u001b[0m\u001b[0mhook_name\u001b[0m\u001b[0;34m,\u001b[0m \u001b[0mbatch\u001b[0m\u001b[0;34m,\u001b[0m \u001b[0mlogs\u001b[0m\u001b[0;34m)\u001b[0m\u001b[0;34m\u001b[0m\u001b[0;34m\u001b[0m\u001b[0m\n\u001b[0m\u001b[1;32m    319\u001b[0m \u001b[0;34m\u001b[0m\u001b[0m\n\u001b[1;32m    320\u001b[0m     \u001b[0;32mif\u001b[0m \u001b[0mlen\u001b[0m\u001b[0;34m(\u001b[0m\u001b[0mself\u001b[0m\u001b[0;34m.\u001b[0m\u001b[0m_batch_times\u001b[0m\u001b[0;34m)\u001b[0m \u001b[0;34m>=\u001b[0m \u001b[0mself\u001b[0m\u001b[0;34m.\u001b[0m\u001b[0m_num_batches_for_timing_check\u001b[0m\u001b[0;34m:\u001b[0m\u001b[0;34m\u001b[0m\u001b[0;34m\u001b[0m\u001b[0m\n",
      "\u001b[0;32m/usr/local/lib/python3.7/dist-packages/keras/callbacks.py\u001b[0m in \u001b[0;36m_call_batch_hook_helper\u001b[0;34m(self, hook_name, batch, logs)\u001b[0m\n\u001b[1;32m    354\u001b[0m     \u001b[0;32mfor\u001b[0m \u001b[0mcallback\u001b[0m \u001b[0;32min\u001b[0m \u001b[0mself\u001b[0m\u001b[0;34m.\u001b[0m\u001b[0mcallbacks\u001b[0m\u001b[0;34m:\u001b[0m\u001b[0;34m\u001b[0m\u001b[0;34m\u001b[0m\u001b[0m\n\u001b[1;32m    355\u001b[0m       \u001b[0mhook\u001b[0m \u001b[0;34m=\u001b[0m \u001b[0mgetattr\u001b[0m\u001b[0;34m(\u001b[0m\u001b[0mcallback\u001b[0m\u001b[0;34m,\u001b[0m \u001b[0mhook_name\u001b[0m\u001b[0;34m)\u001b[0m\u001b[0;34m\u001b[0m\u001b[0;34m\u001b[0m\u001b[0m\n\u001b[0;32m--> 356\u001b[0;31m       \u001b[0mhook\u001b[0m\u001b[0;34m(\u001b[0m\u001b[0mbatch\u001b[0m\u001b[0;34m,\u001b[0m \u001b[0mlogs\u001b[0m\u001b[0;34m)\u001b[0m\u001b[0;34m\u001b[0m\u001b[0;34m\u001b[0m\u001b[0m\n\u001b[0m\u001b[1;32m    357\u001b[0m \u001b[0;34m\u001b[0m\u001b[0m\n\u001b[1;32m    358\u001b[0m     \u001b[0;32mif\u001b[0m \u001b[0mself\u001b[0m\u001b[0;34m.\u001b[0m\u001b[0m_check_timing\u001b[0m\u001b[0;34m:\u001b[0m\u001b[0;34m\u001b[0m\u001b[0;34m\u001b[0m\u001b[0m\n",
      "\u001b[0;32m/usr/local/lib/python3.7/dist-packages/keras/callbacks.py\u001b[0m in \u001b[0;36mon_train_batch_end\u001b[0;34m(self, batch, logs)\u001b[0m\n\u001b[1;32m   1032\u001b[0m \u001b[0;34m\u001b[0m\u001b[0m\n\u001b[1;32m   1033\u001b[0m   \u001b[0;32mdef\u001b[0m \u001b[0mon_train_batch_end\u001b[0m\u001b[0;34m(\u001b[0m\u001b[0mself\u001b[0m\u001b[0;34m,\u001b[0m \u001b[0mbatch\u001b[0m\u001b[0;34m,\u001b[0m \u001b[0mlogs\u001b[0m\u001b[0;34m=\u001b[0m\u001b[0;32mNone\u001b[0m\u001b[0;34m)\u001b[0m\u001b[0;34m:\u001b[0m\u001b[0;34m\u001b[0m\u001b[0;34m\u001b[0m\u001b[0m\n\u001b[0;32m-> 1034\u001b[0;31m     \u001b[0mself\u001b[0m\u001b[0;34m.\u001b[0m\u001b[0m_batch_update_progbar\u001b[0m\u001b[0;34m(\u001b[0m\u001b[0mbatch\u001b[0m\u001b[0;34m,\u001b[0m \u001b[0mlogs\u001b[0m\u001b[0;34m)\u001b[0m\u001b[0;34m\u001b[0m\u001b[0;34m\u001b[0m\u001b[0m\n\u001b[0m\u001b[1;32m   1035\u001b[0m \u001b[0;34m\u001b[0m\u001b[0m\n\u001b[1;32m   1036\u001b[0m   \u001b[0;32mdef\u001b[0m \u001b[0mon_test_batch_end\u001b[0m\u001b[0;34m(\u001b[0m\u001b[0mself\u001b[0m\u001b[0;34m,\u001b[0m \u001b[0mbatch\u001b[0m\u001b[0;34m,\u001b[0m \u001b[0mlogs\u001b[0m\u001b[0;34m=\u001b[0m\u001b[0;32mNone\u001b[0m\u001b[0;34m)\u001b[0m\u001b[0;34m:\u001b[0m\u001b[0;34m\u001b[0m\u001b[0;34m\u001b[0m\u001b[0m\n",
      "\u001b[0;32m/usr/local/lib/python3.7/dist-packages/keras/callbacks.py\u001b[0m in \u001b[0;36m_batch_update_progbar\u001b[0;34m(self, batch, logs)\u001b[0m\n\u001b[1;32m   1104\u001b[0m     \u001b[0;32mif\u001b[0m \u001b[0mself\u001b[0m\u001b[0;34m.\u001b[0m\u001b[0mverbose\u001b[0m \u001b[0;34m==\u001b[0m \u001b[0;36m1\u001b[0m\u001b[0;34m:\u001b[0m\u001b[0;34m\u001b[0m\u001b[0;34m\u001b[0m\u001b[0m\n\u001b[1;32m   1105\u001b[0m       \u001b[0;31m# Only block async when verbose = 1.\u001b[0m\u001b[0;34m\u001b[0m\u001b[0;34m\u001b[0m\u001b[0;34m\u001b[0m\u001b[0m\n\u001b[0;32m-> 1106\u001b[0;31m       \u001b[0mlogs\u001b[0m \u001b[0;34m=\u001b[0m \u001b[0mtf_utils\u001b[0m\u001b[0;34m.\u001b[0m\u001b[0msync_to_numpy_or_python_type\u001b[0m\u001b[0;34m(\u001b[0m\u001b[0mlogs\u001b[0m\u001b[0;34m)\u001b[0m\u001b[0;34m\u001b[0m\u001b[0;34m\u001b[0m\u001b[0m\n\u001b[0m\u001b[1;32m   1107\u001b[0m       \u001b[0mself\u001b[0m\u001b[0;34m.\u001b[0m\u001b[0mprogbar\u001b[0m\u001b[0;34m.\u001b[0m\u001b[0mupdate\u001b[0m\u001b[0;34m(\u001b[0m\u001b[0mself\u001b[0m\u001b[0;34m.\u001b[0m\u001b[0mseen\u001b[0m\u001b[0;34m,\u001b[0m \u001b[0mlist\u001b[0m\u001b[0;34m(\u001b[0m\u001b[0mlogs\u001b[0m\u001b[0;34m.\u001b[0m\u001b[0mitems\u001b[0m\u001b[0;34m(\u001b[0m\u001b[0;34m)\u001b[0m\u001b[0;34m)\u001b[0m\u001b[0;34m,\u001b[0m \u001b[0mfinalize\u001b[0m\u001b[0;34m=\u001b[0m\u001b[0;32mFalse\u001b[0m\u001b[0;34m)\u001b[0m\u001b[0;34m\u001b[0m\u001b[0;34m\u001b[0m\u001b[0m\n\u001b[1;32m   1108\u001b[0m \u001b[0;34m\u001b[0m\u001b[0m\n",
      "\u001b[0;32m/usr/local/lib/python3.7/dist-packages/keras/utils/tf_utils.py\u001b[0m in \u001b[0;36msync_to_numpy_or_python_type\u001b[0;34m(tensors)\u001b[0m\n\u001b[1;32m    561\u001b[0m     \u001b[0;32mreturn\u001b[0m \u001b[0mt\u001b[0m\u001b[0;34m.\u001b[0m\u001b[0mitem\u001b[0m\u001b[0;34m(\u001b[0m\u001b[0;34m)\u001b[0m \u001b[0;32mif\u001b[0m \u001b[0mnp\u001b[0m\u001b[0;34m.\u001b[0m\u001b[0mndim\u001b[0m\u001b[0;34m(\u001b[0m\u001b[0mt\u001b[0m\u001b[0;34m)\u001b[0m \u001b[0;34m==\u001b[0m \u001b[0;36m0\u001b[0m \u001b[0;32melse\u001b[0m \u001b[0mt\u001b[0m\u001b[0;34m\u001b[0m\u001b[0;34m\u001b[0m\u001b[0m\n\u001b[1;32m    562\u001b[0m \u001b[0;34m\u001b[0m\u001b[0m\n\u001b[0;32m--> 563\u001b[0;31m   \u001b[0;32mreturn\u001b[0m \u001b[0mtf\u001b[0m\u001b[0;34m.\u001b[0m\u001b[0mnest\u001b[0m\u001b[0;34m.\u001b[0m\u001b[0mmap_structure\u001b[0m\u001b[0;34m(\u001b[0m\u001b[0m_to_single_numpy_or_python_type\u001b[0m\u001b[0;34m,\u001b[0m \u001b[0mtensors\u001b[0m\u001b[0;34m)\u001b[0m\u001b[0;34m\u001b[0m\u001b[0;34m\u001b[0m\u001b[0m\n\u001b[0m\u001b[1;32m    564\u001b[0m \u001b[0;34m\u001b[0m\u001b[0m\n\u001b[1;32m    565\u001b[0m \u001b[0;34m\u001b[0m\u001b[0m\n",
      "\u001b[0;32m/usr/local/lib/python3.7/dist-packages/tensorflow/python/util/nest.py\u001b[0m in \u001b[0;36mmap_structure\u001b[0;34m(func, *structure, **kwargs)\u001b[0m\n\u001b[1;32m    912\u001b[0m \u001b[0;34m\u001b[0m\u001b[0m\n\u001b[1;32m    913\u001b[0m   return pack_sequence_as(\n\u001b[0;32m--> 914\u001b[0;31m       \u001b[0mstructure\u001b[0m\u001b[0;34m[\u001b[0m\u001b[0;36m0\u001b[0m\u001b[0;34m]\u001b[0m\u001b[0;34m,\u001b[0m \u001b[0;34m[\u001b[0m\u001b[0mfunc\u001b[0m\u001b[0;34m(\u001b[0m\u001b[0;34m*\u001b[0m\u001b[0mx\u001b[0m\u001b[0;34m)\u001b[0m \u001b[0;32mfor\u001b[0m \u001b[0mx\u001b[0m \u001b[0;32min\u001b[0m \u001b[0mentries\u001b[0m\u001b[0;34m]\u001b[0m\u001b[0;34m,\u001b[0m\u001b[0;34m\u001b[0m\u001b[0;34m\u001b[0m\u001b[0m\n\u001b[0m\u001b[1;32m    915\u001b[0m       expand_composites=expand_composites)\n\u001b[1;32m    916\u001b[0m \u001b[0;34m\u001b[0m\u001b[0m\n",
      "\u001b[0;32m/usr/local/lib/python3.7/dist-packages/tensorflow/python/util/nest.py\u001b[0m in \u001b[0;36m<listcomp>\u001b[0;34m(.0)\u001b[0m\n\u001b[1;32m    912\u001b[0m \u001b[0;34m\u001b[0m\u001b[0m\n\u001b[1;32m    913\u001b[0m   return pack_sequence_as(\n\u001b[0;32m--> 914\u001b[0;31m       \u001b[0mstructure\u001b[0m\u001b[0;34m[\u001b[0m\u001b[0;36m0\u001b[0m\u001b[0;34m]\u001b[0m\u001b[0;34m,\u001b[0m \u001b[0;34m[\u001b[0m\u001b[0mfunc\u001b[0m\u001b[0;34m(\u001b[0m\u001b[0;34m*\u001b[0m\u001b[0mx\u001b[0m\u001b[0;34m)\u001b[0m \u001b[0;32mfor\u001b[0m \u001b[0mx\u001b[0m \u001b[0;32min\u001b[0m \u001b[0mentries\u001b[0m\u001b[0;34m]\u001b[0m\u001b[0;34m,\u001b[0m\u001b[0;34m\u001b[0m\u001b[0;34m\u001b[0m\u001b[0m\n\u001b[0m\u001b[1;32m    915\u001b[0m       expand_composites=expand_composites)\n\u001b[1;32m    916\u001b[0m \u001b[0;34m\u001b[0m\u001b[0m\n",
      "\u001b[0;32m/usr/local/lib/python3.7/dist-packages/keras/utils/tf_utils.py\u001b[0m in \u001b[0;36m_to_single_numpy_or_python_type\u001b[0;34m(t)\u001b[0m\n\u001b[1;32m    555\u001b[0m     \u001b[0;31m# Don't turn ragged or sparse tensors to NumPy.\u001b[0m\u001b[0;34m\u001b[0m\u001b[0;34m\u001b[0m\u001b[0;34m\u001b[0m\u001b[0m\n\u001b[1;32m    556\u001b[0m     \u001b[0;32mif\u001b[0m \u001b[0misinstance\u001b[0m\u001b[0;34m(\u001b[0m\u001b[0mt\u001b[0m\u001b[0;34m,\u001b[0m \u001b[0mtf\u001b[0m\u001b[0;34m.\u001b[0m\u001b[0mTensor\u001b[0m\u001b[0;34m)\u001b[0m\u001b[0;34m:\u001b[0m\u001b[0;34m\u001b[0m\u001b[0;34m\u001b[0m\u001b[0m\n\u001b[0;32m--> 557\u001b[0;31m       \u001b[0mt\u001b[0m \u001b[0;34m=\u001b[0m \u001b[0mt\u001b[0m\u001b[0;34m.\u001b[0m\u001b[0mnumpy\u001b[0m\u001b[0;34m(\u001b[0m\u001b[0;34m)\u001b[0m\u001b[0;34m\u001b[0m\u001b[0;34m\u001b[0m\u001b[0m\n\u001b[0m\u001b[1;32m    558\u001b[0m     \u001b[0;31m# Strings, ragged and sparse tensors don't have .item(). Return them as-is.\u001b[0m\u001b[0;34m\u001b[0m\u001b[0;34m\u001b[0m\u001b[0;34m\u001b[0m\u001b[0m\n\u001b[1;32m    559\u001b[0m     \u001b[0;32mif\u001b[0m \u001b[0;32mnot\u001b[0m \u001b[0misinstance\u001b[0m\u001b[0;34m(\u001b[0m\u001b[0mt\u001b[0m\u001b[0;34m,\u001b[0m \u001b[0;34m(\u001b[0m\u001b[0mnp\u001b[0m\u001b[0;34m.\u001b[0m\u001b[0mndarray\u001b[0m\u001b[0;34m,\u001b[0m \u001b[0mnp\u001b[0m\u001b[0;34m.\u001b[0m\u001b[0mgeneric\u001b[0m\u001b[0;34m)\u001b[0m\u001b[0;34m)\u001b[0m\u001b[0;34m:\u001b[0m\u001b[0;34m\u001b[0m\u001b[0;34m\u001b[0m\u001b[0m\n",
      "\u001b[0;32m/usr/local/lib/python3.7/dist-packages/tensorflow/python/framework/ops.py\u001b[0m in \u001b[0;36mnumpy\u001b[0;34m(self)\u001b[0m\n\u001b[1;32m   1221\u001b[0m     \"\"\"\n\u001b[1;32m   1222\u001b[0m     \u001b[0;31m# TODO(slebedev): Consider avoiding a copy for non-CPU or remote tensors.\u001b[0m\u001b[0;34m\u001b[0m\u001b[0;34m\u001b[0m\u001b[0;34m\u001b[0m\u001b[0m\n\u001b[0;32m-> 1223\u001b[0;31m     \u001b[0mmaybe_arr\u001b[0m \u001b[0;34m=\u001b[0m \u001b[0mself\u001b[0m\u001b[0;34m.\u001b[0m\u001b[0m_numpy\u001b[0m\u001b[0;34m(\u001b[0m\u001b[0;34m)\u001b[0m  \u001b[0;31m# pylint: disable=protected-access\u001b[0m\u001b[0;34m\u001b[0m\u001b[0;34m\u001b[0m\u001b[0m\n\u001b[0m\u001b[1;32m   1224\u001b[0m     \u001b[0;32mreturn\u001b[0m \u001b[0mmaybe_arr\u001b[0m\u001b[0;34m.\u001b[0m\u001b[0mcopy\u001b[0m\u001b[0;34m(\u001b[0m\u001b[0;34m)\u001b[0m \u001b[0;32mif\u001b[0m \u001b[0misinstance\u001b[0m\u001b[0;34m(\u001b[0m\u001b[0mmaybe_arr\u001b[0m\u001b[0;34m,\u001b[0m \u001b[0mnp\u001b[0m\u001b[0;34m.\u001b[0m\u001b[0mndarray\u001b[0m\u001b[0;34m)\u001b[0m \u001b[0;32melse\u001b[0m \u001b[0mmaybe_arr\u001b[0m\u001b[0;34m\u001b[0m\u001b[0;34m\u001b[0m\u001b[0m\n\u001b[1;32m   1225\u001b[0m \u001b[0;34m\u001b[0m\u001b[0m\n",
      "\u001b[0;32m/usr/local/lib/python3.7/dist-packages/tensorflow/python/framework/ops.py\u001b[0m in \u001b[0;36m_numpy\u001b[0;34m(self)\u001b[0m\n\u001b[1;32m   1187\u001b[0m   \u001b[0;32mdef\u001b[0m \u001b[0m_numpy\u001b[0m\u001b[0;34m(\u001b[0m\u001b[0mself\u001b[0m\u001b[0;34m)\u001b[0m\u001b[0;34m:\u001b[0m\u001b[0;34m\u001b[0m\u001b[0;34m\u001b[0m\u001b[0m\n\u001b[1;32m   1188\u001b[0m     \u001b[0;32mtry\u001b[0m\u001b[0;34m:\u001b[0m\u001b[0;34m\u001b[0m\u001b[0;34m\u001b[0m\u001b[0m\n\u001b[0;32m-> 1189\u001b[0;31m       \u001b[0;32mreturn\u001b[0m \u001b[0mself\u001b[0m\u001b[0;34m.\u001b[0m\u001b[0m_numpy_internal\u001b[0m\u001b[0;34m(\u001b[0m\u001b[0;34m)\u001b[0m\u001b[0;34m\u001b[0m\u001b[0;34m\u001b[0m\u001b[0m\n\u001b[0m\u001b[1;32m   1190\u001b[0m     \u001b[0;32mexcept\u001b[0m \u001b[0mcore\u001b[0m\u001b[0;34m.\u001b[0m\u001b[0m_NotOkStatusException\u001b[0m \u001b[0;32mas\u001b[0m \u001b[0me\u001b[0m\u001b[0;34m:\u001b[0m  \u001b[0;31m# pylint: disable=protected-access\u001b[0m\u001b[0;34m\u001b[0m\u001b[0;34m\u001b[0m\u001b[0m\n\u001b[1;32m   1191\u001b[0m       \u001b[0;32mraise\u001b[0m \u001b[0mcore\u001b[0m\u001b[0;34m.\u001b[0m\u001b[0m_status_to_exception\u001b[0m\u001b[0;34m(\u001b[0m\u001b[0me\u001b[0m\u001b[0;34m)\u001b[0m \u001b[0;32mfrom\u001b[0m \u001b[0;32mNone\u001b[0m  \u001b[0;31m# pylint: disable=protected-access\u001b[0m\u001b[0;34m\u001b[0m\u001b[0;34m\u001b[0m\u001b[0m\n",
      "\u001b[0;31mKeyboardInterrupt\u001b[0m: "
     ]
    }
   ],
   "source": [
    "history = model2.fit(X_train_normal , Y_train_ohe , epochs=30 , validation_data= (X_validation_normal , Y_validation_ohe) )"
   ]
  },
  {
   "cell_type": "markdown",
   "id": "NCD4LtJZD2xK",
   "metadata": {
    "id": "NCD4LtJZD2xK"
   },
   "source": [
    "# **MobileNetV2**"
   ]
  },
  {
   "cell_type": "code",
   "execution_count": null,
   "id": "jTTe8tQI6RjA",
   "metadata": {
    "colab": {
     "base_uri": "https://localhost:8080/"
    },
    "id": "jTTe8tQI6RjA",
    "outputId": "706bb0af-0066-4f22-be1a-ee280894d813"
   },
   "outputs": [
    {
     "name": "stdout",
     "output_type": "stream",
     "text": [
      "WARNING:tensorflow:`input_shape` is undefined or non-square, or `rows` is not in [96, 128, 160, 192, 224]. Weights for input shape (224, 224) will be loaded as the default.\n"
     ]
    },
    {
     "name": "stderr",
     "output_type": "stream",
     "text": [
      "WARNING:tensorflow:`input_shape` is undefined or non-square, or `rows` is not in [96, 128, 160, 192, 224]. Weights for input shape (224, 224) will be loaded as the default.\n"
     ]
    },
    {
     "name": "stdout",
     "output_type": "stream",
     "text": [
      "Model: \"sequential_5\"\n",
      "_________________________________________________________________\n",
      " Layer (type)                Output Shape              Param #   \n",
      "=================================================================\n",
      " mobilenetv2_1.00_224 (Funct  (None, 3, 3, 1280)       2257984   \n",
      " ional)                                                          \n",
      "                                                                 \n",
      " flatten_5 (Flatten)         (None, 11520)             0         \n",
      "                                                                 \n",
      " dense_11 (Dense)            (None, 700)               8064700   \n",
      "                                                                 \n",
      " dense_12 (Dense)            (None, 100)               70100     \n",
      "                                                                 \n",
      " dense_13 (Dense)            (None, 5)                 505       \n",
      "                                                                 \n",
      "=================================================================\n",
      "Total params: 10,393,289\n",
      "Trainable params: 8,135,305\n",
      "Non-trainable params: 2,257,984\n",
      "_________________________________________________________________\n"
     ]
    }
   ],
   "source": [
    "base_model2 = keras.applications.MobileNetV2(\n",
    "       include_top=False,\n",
    "    alpha=1.0,\n",
    "    weights=\"imagenet\",\n",
    "    input_shape=(img_size,img_size,3),\n",
    "    pooling=None,\n",
    "    classes=1000,\n",
    "    classifier_activation=\"softmax\",\n",
    "\n",
    ")\n",
    "\n",
    "base_model2.trainable = False\n",
    "\n",
    "model3 = Sequential([\n",
    "    \n",
    "\n",
    "\n",
    "   base_model2,\n",
    "\n",
    "    Flatten(),\n",
    "\n",
    "    Dense(700 , activation='relu'),\n",
    "        \n",
    "    Dense(100 , activation='relu'),\n",
    "\n",
    "    Dense(5 , activation = 'softmax'),\n",
    "])\n",
    "\n",
    "model3.summary()"
   ]
  },
  {
   "cell_type": "code",
   "execution_count": null,
   "id": "6qPrIZHy7LBm",
   "metadata": {
    "id": "6qPrIZHy7LBm"
   },
   "outputs": [],
   "source": [
    "model3.compile('adam' , loss='categorical_crossentropy' , metrics = ['accuracy'])"
   ]
  },
  {
   "cell_type": "code",
   "execution_count": null,
   "id": "Oa643rch7N7O",
   "metadata": {
    "colab": {
     "base_uri": "https://localhost:8080/"
    },
    "id": "Oa643rch7N7O",
    "outputId": "cb078ea9-c102-48ac-e371-94b4a8a252d0"
   },
   "outputs": [
    {
     "name": "stdout",
     "output_type": "stream",
     "text": [
      "Epoch 1/30\n",
      "392/392 [==============================] - 5s 13ms/step - loss: 0.5461 - accuracy: 0.7696 - val_loss: 0.8776 - val_accuracy: 0.6624\n",
      "Epoch 2/30\n",
      "392/392 [==============================] - 6s 14ms/step - loss: 0.5165 - accuracy: 0.7808 - val_loss: 0.9485 - val_accuracy: 0.6288\n",
      "Epoch 3/30\n",
      "392/392 [==============================] - 5s 13ms/step - loss: 0.5032 - accuracy: 0.7879 - val_loss: 0.8759 - val_accuracy: 0.6603\n",
      "Epoch 4/30\n",
      "392/392 [==============================] - 5s 13ms/step - loss: 0.4719 - accuracy: 0.7947 - val_loss: 0.6603 - val_accuracy: 0.7276\n",
      "Epoch 5/30\n",
      "392/392 [==============================] - 5s 13ms/step - loss: 0.4563 - accuracy: 0.7985 - val_loss: 0.9008 - val_accuracy: 0.6697\n",
      "Epoch 6/30\n",
      "392/392 [==============================] - 5s 13ms/step - loss: 0.4851 - accuracy: 0.7954 - val_loss: 0.7241 - val_accuracy: 0.7127\n",
      "Epoch 7/30\n",
      "392/392 [==============================] - 5s 13ms/step - loss: 0.4298 - accuracy: 0.8118 - val_loss: 0.7565 - val_accuracy: 0.7009\n",
      "Epoch 8/30\n",
      "392/392 [==============================] - 5s 13ms/step - loss: 0.4236 - accuracy: 0.8109 - val_loss: 0.7646 - val_accuracy: 0.7106\n",
      "Epoch 9/30\n",
      "392/392 [==============================] - 5s 13ms/step - loss: 0.4216 - accuracy: 0.8107 - val_loss: 0.6895 - val_accuracy: 0.7258\n",
      "Epoch 10/30\n",
      "392/392 [==============================] - 5s 13ms/step - loss: 0.4159 - accuracy: 0.8161 - val_loss: 0.6502 - val_accuracy: 0.7466\n",
      "Epoch 11/30\n",
      "392/392 [==============================] - 6s 14ms/step - loss: 0.4098 - accuracy: 0.8171 - val_loss: 1.0033 - val_accuracy: 0.6565\n",
      "Epoch 12/30\n",
      "392/392 [==============================] - 6s 14ms/step - loss: 0.4131 - accuracy: 0.8194 - val_loss: 0.7670 - val_accuracy: 0.7279\n",
      "Epoch 13/30\n",
      "392/392 [==============================] - 6s 14ms/step - loss: 0.4026 - accuracy: 0.8199 - val_loss: 0.7108 - val_accuracy: 0.7282\n",
      "Epoch 14/30\n",
      "392/392 [==============================] - 6s 15ms/step - loss: 0.3751 - accuracy: 0.8308 - val_loss: 0.9587 - val_accuracy: 0.6839\n",
      "Epoch 15/30\n",
      "392/392 [==============================] - 6s 15ms/step - loss: 0.3613 - accuracy: 0.8345 - val_loss: 0.7277 - val_accuracy: 0.7359\n",
      "Epoch 16/30\n",
      "392/392 [==============================] - 5s 14ms/step - loss: 0.3757 - accuracy: 0.8308 - val_loss: 0.9581 - val_accuracy: 0.6752\n",
      "Epoch 17/30\n",
      "392/392 [==============================] - 6s 14ms/step - loss: 0.3708 - accuracy: 0.8336 - val_loss: 0.7613 - val_accuracy: 0.7317\n",
      "Epoch 18/30\n",
      "392/392 [==============================] - 6s 14ms/step - loss: 0.3470 - accuracy: 0.8404 - val_loss: 0.7980 - val_accuracy: 0.7262\n",
      "Epoch 19/30\n",
      "392/392 [==============================] - 5s 13ms/step - loss: 0.3426 - accuracy: 0.8424 - val_loss: 0.7279 - val_accuracy: 0.7428\n",
      "Epoch 20/30\n",
      "392/392 [==============================] - 6s 14ms/step - loss: 0.3237 - accuracy: 0.8483 - val_loss: 0.9858 - val_accuracy: 0.7064\n",
      "Epoch 21/30\n",
      "392/392 [==============================] - 5s 13ms/step - loss: 0.3838 - accuracy: 0.8300 - val_loss: 0.7272 - val_accuracy: 0.7397\n",
      "Epoch 22/30\n",
      "392/392 [==============================] - 5s 13ms/step - loss: 0.3218 - accuracy: 0.8509 - val_loss: 0.7910 - val_accuracy: 0.7397\n",
      "Epoch 23/30\n",
      "392/392 [==============================] - 6s 14ms/step - loss: 0.3366 - accuracy: 0.8443 - val_loss: 0.7616 - val_accuracy: 0.7449\n",
      "Epoch 24/30\n",
      "392/392 [==============================] - 5s 13ms/step - loss: 0.3315 - accuracy: 0.8465 - val_loss: 0.7586 - val_accuracy: 0.7477\n",
      "Epoch 25/30\n",
      "392/392 [==============================] - 6s 15ms/step - loss: 0.3288 - accuracy: 0.8478 - val_loss: 0.7934 - val_accuracy: 0.7348\n",
      "Epoch 26/30\n",
      "392/392 [==============================] - 5s 14ms/step - loss: 0.3431 - accuracy: 0.8413 - val_loss: 0.8349 - val_accuracy: 0.7189\n",
      "Epoch 27/30\n",
      "392/392 [==============================] - 5s 14ms/step - loss: 0.3423 - accuracy: 0.8416 - val_loss: 0.9631 - val_accuracy: 0.6943\n",
      "Epoch 28/30\n",
      "392/392 [==============================] - 5s 13ms/step - loss: 0.3186 - accuracy: 0.8492 - val_loss: 0.8138 - val_accuracy: 0.7376\n",
      "Epoch 29/30\n",
      "392/392 [==============================] - 5s 13ms/step - loss: 0.2995 - accuracy: 0.8571 - val_loss: 0.7830 - val_accuracy: 0.7518\n",
      "Epoch 30/30\n",
      "392/392 [==============================] - 5s 13ms/step - loss: 0.3229 - accuracy: 0.8480 - val_loss: 0.8980 - val_accuracy: 0.7199\n"
     ]
    }
   ],
   "source": [
    "history = model3.fit(X_train_normal , Y_train_ohe , epochs=30 , validation_data= (X_validation_normal , Y_validation_ohe) )"
   ]
  },
  {
   "cell_type": "code",
   "execution_count": null,
   "id": "OM9KaQQCInSm",
   "metadata": {
    "colab": {
     "base_uri": "https://localhost:8080/",
     "height": 435
    },
    "id": "OM9KaQQCInSm",
    "outputId": "2164d7e9-cdff-490b-876a-66b8996b9d66"
   },
   "outputs": [
    {
     "data": {
      "image/png": "[encoded data removed]",
      "text/plain": [
       "<Figure size 1080x1080 with 2 Axes>"
      ]
     },
     "metadata": {
      "needs_background": "light"
     },
     "output_type": "display_data"
    }
   ],
   "source": [
    "acc = history.history['accuracy']\n",
    "val_acc = history.history['val_accuracy']\n",
    "loss = history.history['loss']\n",
    "val_loss = history.history['val_loss']\n",
    "\n",
    "epochs_range = range(30)\n",
    "\n",
    "plt.figure(figsize=(15, 15))\n",
    "plt.subplot(2, 2, 1)\n",
    "plt.plot(epochs_range, acc, label='Training Accuracy')\n",
    "plt.plot(epochs_range, val_acc, label='Validation Accuracy')\n",
    "plt.legend(loc='lower right')\n",
    "plt.title('Training and Validation Accuracy')\n",
    "\n",
    "plt.subplot(2, 2, 2)\n",
    "plt.plot(epochs_range, loss, label='Training Loss')\n",
    "plt.plot(epochs_range, val_loss, label='Validation Loss')\n",
    "plt.legend(loc='upper right')\n",
    "plt.title('Training and Validation Loss')\n",
    "plt.show()"
   ]
  },
  {
   "cell_type": "code",
   "execution_count": null,
   "id": "l7C0lqAlGJQd",
   "metadata": {
    "id": "l7C0lqAlGJQd"
   },
   "outputs": [],
   "source": [
    "CNN_model_predict2 = model.predict(X_test)"
   ]
  },
  {
   "cell_type": "code",
   "execution_count": null,
   "id": "Shye8gVdGP6Y",
   "metadata": {
    "colab": {
     "base_uri": "https://localhost:8080/"
    },
    "id": "Shye8gVdGP6Y",
    "outputId": "c353a3ee-2597-421a-ed6b-912f20c15e69"
   },
   "outputs": [
    {
     "name": "stdout",
     "output_type": "stream",
     "text": [
      "4/4 - 2s - loss: 1.5378 - accuracy: 0.6900 - 2s/epoch - 481ms/step\n",
      "\n",
      "Test accuracy :  0.6899999976158142  Test loss :  1.5377869606018066\n"
     ]
    }
   ],
   "source": [
    "test_cnn_loss, test_cnn_acc = model3.evaluate(X_test, Y_test_ohe, verbose = 2)\n",
    "print(\"\\nTest accuracy : \", test_cnn_acc, \" Test loss : \", test_cnn_loss)"
   ]
  },
  {
   "cell_type": "code",
   "execution_count": null,
   "id": "q_r2cmeGGafw",
   "metadata": {
    "colab": {
     "base_uri": "https://localhost:8080/",
     "height": 532
    },
    "id": "q_r2cmeGGafw",
    "outputId": "55915d15-7da9-490c-ebb5-850619464b0a"
   },
   "outputs": [
    {
     "data": {
      "image/png": "[encoded data removed]",
      "text/plain": [
       "<Figure size 576x576 with 1 Axes>"
      ]
     },
     "metadata": {
      "needs_background": "light"
     },
     "output_type": "display_data"
    }
   ],
   "source": [
    "import sklearn\n",
    "cnn_y_pred2 = np.argmax(CNN_model_predict2, axis=1)\n",
    "cnn_y_test = Y_test\n",
    "\n",
    "confusion_matrix_cnn2 = sklearn.metrics.confusion_matrix(y_pred = cnn_y_pred2, y_true = cnn_y_test)\n",
    "fig, ax = plt.subplots(figsize=(8, 8))\n",
    "ax.matshow(confusion_matrix_cnn2, cmap=plt.cm.Blues, alpha=.3)\n",
    "for i in range(confusion_matrix_cnn2.shape[0]):\n",
    "  for j in range(confusion_matrix_cnn2.shape[1]):\n",
    "    ax.text(x=j, y=i, s = confusion_matrix_cnn2[i, j], va=\"center\", ha=\"center\", size = \"xx-large\")\n",
    "plt.xlabel(\"predictions\", fontsize=20)\n",
    "plt.ylabel(\"actuals\", fontsize=20)\n",
    "plt.title(\"CNN Model Confusion matrix\", fontsize = 20)\n",
    "plt.show()"
   ]
  },
  {
   "cell_type": "markdown",
   "id": "_qC49uH7JA9b",
   "metadata": {
    "id": "_qC49uH7JA9b"
   },
   "source": [
    "#VGG16"
   ]
  },
  {
   "cell_type": "code",
   "execution_count": 45,
   "id": "o5Tj32tfAZVL",
   "metadata": {
    "colab": {
     "base_uri": "https://localhost:8080/"
    },
    "id": "o5Tj32tfAZVL",
    "outputId": "ce167426-39d2-4d26-fb10-6ff378bd7f77"
   },
   "outputs": [
    {
     "name": "stdout",
     "output_type": "stream",
     "text": [
      "Downloading data from https://storage.googleapis.com/tensorflow/keras-applications/vgg16/vgg16_weights_tf_dim_ordering_tf_kernels_notop.h5\n",
      "58892288/58889256 [==============================] - 1s 0us/step\n",
      "58900480/58889256 [==============================] - 1s 0us/step\n",
      "Model: \"sequential_2\"\n",
      "_________________________________________________________________\n",
      " Layer (type)                Output Shape              Param #   \n",
      "=================================================================\n",
      " vgg16 (Functional)          (None, 2, 2, 512)         14714688  \n",
      "                                                                 \n",
      " flatten_2 (Flatten)         (None, 2048)              0         \n",
      "                                                                 \n",
      " dense_4 (Dense)             (None, 800)               1639200   \n",
      "                                                                 \n",
      " dense_5 (Dense)             (None, 5)                 4005      \n",
      "                                                                 \n",
      "=================================================================\n",
      "Total params: 16,357,893\n",
      "Trainable params: 1,643,205\n",
      "Non-trainable params: 14,714,688\n",
      "_________________________________________________________________\n"
     ]
    }
   ],
   "source": [
    "base_model4 = keras.applications.VGG16(\n",
    "    include_top=False,\n",
    "    weights=\"imagenet\",\n",
    "    input_tensor=None,\n",
    "    input_shape=(img_size,img_size,3),\n",
    "    pooling=None,\n",
    "    classes=1000,\n",
    "    classifier_activation=\"softmax\",\n",
    ")\n",
    "\n",
    "base_model4.trainable = False\n",
    "\n",
    "model4 = Sequential([\n",
    "    \n",
    "\n",
    "\n",
    "   base_model4,\n",
    "\n",
    "    Flatten(),\n",
    "\n",
    "    Dense(800 , activation='relu'),\n",
    "        \n",
    "    Dense(5 , activation = 'softmax'),\n",
    "])\n",
    "\n",
    "model4.summary()\n",
    "\n",
    "\n",
    "\n",
    "\n",
    "\n",
    "\n"
   ]
  },
  {
   "cell_type": "code",
   "execution_count": 46,
   "id": "VXA-D79zAcSM",
   "metadata": {
    "id": "VXA-D79zAcSM"
   },
   "outputs": [],
   "source": [
    "model4.compile('adam' , loss='categorical_crossentropy' , metrics = ['accuracy'])"
   ]
  },
  {
   "cell_type": "code",
   "execution_count": 47,
   "id": "IOHtiKxSA5nr",
   "metadata": {
    "colab": {
     "base_uri": "https://localhost:8080/"
    },
    "id": "IOHtiKxSA5nr",
    "outputId": "9b7ebb86-476c-4b4d-ab0f-f4940626bb76"
   },
   "outputs": [
    {
     "name": "stdout",
     "output_type": "stream",
     "text": [
      "Epoch 1/30\n",
      "384/384 [==============================] - 12s 29ms/step - loss: 1.0341 - accuracy: 0.5882 - val_loss: 0.8379 - val_accuracy: 0.6684\n",
      "Epoch 2/30\n",
      "384/384 [==============================] - 10s 26ms/step - loss: 0.7801 - accuracy: 0.6830 - val_loss: 0.7913 - val_accuracy: 0.6841\n",
      "Epoch 3/30\n",
      "384/384 [==============================] - 10s 26ms/step - loss: 0.6833 - accuracy: 0.7253 - val_loss: 0.6876 - val_accuracy: 0.7201\n",
      "Epoch 4/30\n",
      "384/384 [==============================] - 11s 28ms/step - loss: 0.6136 - accuracy: 0.7518 - val_loss: 0.7333 - val_accuracy: 0.7021\n",
      "Epoch 5/30\n",
      "384/384 [==============================] - 11s 28ms/step - loss: 0.5671 - accuracy: 0.7621 - val_loss: 0.6535 - val_accuracy: 0.7332\n",
      "Epoch 6/30\n",
      "384/384 [==============================] - 11s 27ms/step - loss: 0.5222 - accuracy: 0.7791 - val_loss: 0.5671 - val_accuracy: 0.7701\n",
      "Epoch 7/30\n",
      "384/384 [==============================] - 11s 28ms/step - loss: 0.4846 - accuracy: 0.7958 - val_loss: 0.6356 - val_accuracy: 0.7380\n",
      "Epoch 8/30\n",
      "384/384 [==============================] - 11s 28ms/step - loss: 0.4542 - accuracy: 0.8037 - val_loss: 0.6073 - val_accuracy: 0.7528\n",
      "Epoch 9/30\n",
      "384/384 [==============================] - 11s 28ms/step - loss: 0.4376 - accuracy: 0.8096 - val_loss: 0.5489 - val_accuracy: 0.7721\n",
      "Epoch 10/30\n",
      "384/384 [==============================] - 10s 27ms/step - loss: 0.4203 - accuracy: 0.8166 - val_loss: 0.5516 - val_accuracy: 0.7717\n",
      "Epoch 11/30\n",
      "384/384 [==============================] - 10s 27ms/step - loss: 0.4142 - accuracy: 0.8193 - val_loss: 0.6049 - val_accuracy: 0.7640\n",
      "Epoch 12/30\n",
      "384/384 [==============================] - 10s 27ms/step - loss: 0.3937 - accuracy: 0.8258 - val_loss: 0.5467 - val_accuracy: 0.7788\n",
      "Epoch 13/30\n",
      "384/384 [==============================] - 10s 27ms/step - loss: 0.3724 - accuracy: 0.8328 - val_loss: 0.5150 - val_accuracy: 0.7958\n",
      "Epoch 14/30\n",
      "384/384 [==============================] - 10s 27ms/step - loss: 0.3735 - accuracy: 0.8326 - val_loss: 0.5342 - val_accuracy: 0.7891\n",
      "Epoch 15/30\n",
      "384/384 [==============================] - 10s 27ms/step - loss: 0.3493 - accuracy: 0.8383 - val_loss: 0.5452 - val_accuracy: 0.7852\n",
      "Epoch 16/30\n",
      "384/384 [==============================] - 10s 27ms/step - loss: 0.3428 - accuracy: 0.8418 - val_loss: 0.5094 - val_accuracy: 0.7933\n",
      "Epoch 17/30\n",
      "384/384 [==============================] - 10s 27ms/step - loss: 0.3391 - accuracy: 0.8466 - val_loss: 0.6174 - val_accuracy: 0.7737\n",
      "Epoch 18/30\n",
      "384/384 [==============================] - 10s 27ms/step - loss: 0.3359 - accuracy: 0.8458 - val_loss: 0.5115 - val_accuracy: 0.8029\n",
      "Epoch 19/30\n",
      "384/384 [==============================] - 10s 27ms/step - loss: 0.3331 - accuracy: 0.8448 - val_loss: 0.5395 - val_accuracy: 0.7968\n",
      "Epoch 20/30\n",
      "384/384 [==============================] - 10s 27ms/step - loss: 0.3241 - accuracy: 0.8488 - val_loss: 0.5371 - val_accuracy: 0.7987\n",
      "Epoch 21/30\n",
      "384/384 [==============================] - 10s 27ms/step - loss: 0.3197 - accuracy: 0.8530 - val_loss: 0.5304 - val_accuracy: 0.7968\n",
      "Epoch 22/30\n",
      "384/384 [==============================] - 10s 27ms/step - loss: 0.3122 - accuracy: 0.8534 - val_loss: 0.5102 - val_accuracy: 0.8071\n",
      "Epoch 23/30\n",
      "384/384 [==============================] - 11s 28ms/step - loss: 0.3106 - accuracy: 0.8562 - val_loss: 0.5275 - val_accuracy: 0.7961\n",
      "Epoch 24/30\n",
      "384/384 [==============================] - 10s 27ms/step - loss: 0.2965 - accuracy: 0.8591 - val_loss: 0.5317 - val_accuracy: 0.8022\n",
      "Epoch 25/30\n",
      "384/384 [==============================] - 10s 27ms/step - loss: 0.3252 - accuracy: 0.8516 - val_loss: 0.5112 - val_accuracy: 0.8093\n",
      "Epoch 26/30\n",
      "384/384 [==============================] - 10s 27ms/step - loss: 0.3019 - accuracy: 0.8593 - val_loss: 0.5925 - val_accuracy: 0.7923\n",
      "Epoch 27/30\n",
      "384/384 [==============================] - 10s 27ms/step - loss: 0.3025 - accuracy: 0.8558 - val_loss: 0.5409 - val_accuracy: 0.8000\n",
      "Epoch 28/30\n",
      "384/384 [==============================] - 10s 27ms/step - loss: 0.3066 - accuracy: 0.8558 - val_loss: 0.6008 - val_accuracy: 0.7865\n",
      "Epoch 29/30\n",
      "384/384 [==============================] - 10s 27ms/step - loss: 0.2937 - accuracy: 0.8594 - val_loss: 0.5116 - val_accuracy: 0.8090\n",
      "Epoch 30/30\n",
      "384/384 [==============================] - 10s 27ms/step - loss: 0.2990 - accuracy: 0.8577 - val_loss: 0.5545 - val_accuracy: 0.8003\n"
     ]
    }
   ],
   "source": [
    "history = model4.fit(X_train_normal , Y_train_ohe , epochs=30 , validation_data= (X_validation_normal , Y_validation_ohe) )"
   ]
  },
  {
   "cell_type": "code",
   "execution_count": 49,
   "id": "c_AJYkOvdWao",
   "metadata": {
    "colab": {
     "base_uri": "https://localhost:8080/",
     "height": 435
    },
    "id": "c_AJYkOvdWao",
    "outputId": "03e5e3fa-5dbc-4529-9839-8933e69590fd"
   },
   "outputs": [
    {
     "data": {
      "image/png": "[encoded data removed]",
      "text/plain": [
       "<Figure size 1080x1080 with 2 Axes>"
      ]
     },
     "metadata": {
      "needs_background": "light"
     },
     "output_type": "display_data"
    }
   ],
   "source": [
    "acc = history.history['accuracy']\n",
    "val_acc = history.history['val_accuracy']\n",
    "loss = history.history['loss']\n",
    "val_loss = history.history['val_loss']\n",
    "\n",
    "epochs_range = range(30)\n",
    "\n",
    "plt.figure(figsize=(15, 15))\n",
    "plt.subplot(2, 2, 1)\n",
    "plt.plot(epochs_range, acc, label='Training Accuracy')\n",
    "plt.plot(epochs_range, val_acc, label='Validation Accuracy')\n",
    "plt.legend(loc='lower right')\n",
    "plt.title('Training and Validation Accuracy')\n",
    "\n",
    "plt.subplot(2, 2, 2)\n",
    "plt.plot(epochs_range, loss, label='Training Loss')\n",
    "plt.plot(epochs_range, val_loss, label='Validation Loss')\n",
    "plt.legend(loc='upper right')\n",
    "plt.title('Training and Validation Loss')\n",
    "plt.show()"
   ]
  },
  {
   "cell_type": "code",
   "execution_count": 54,
   "id": "hbDQ_NUtdbkN",
   "metadata": {
    "id": "hbDQ_NUtdbkN"
   },
   "outputs": [],
   "source": [
    "CNN_model_predict2 = model4.predict(X_test)"
   ]
  },
  {
   "cell_type": "code",
   "execution_count": 55,
   "id": "PaR21CjwdefT",
   "metadata": {
    "colab": {
     "base_uri": "https://localhost:8080/"
    },
    "id": "PaR21CjwdefT",
    "outputId": "75eab5dd-d9fd-448f-f096-05110c5e3266"
   },
   "outputs": [
    {
     "name": "stdout",
     "output_type": "stream",
     "text": [
      "4/4 - 0s - loss: 1.3072 - accuracy: 0.7600 - 108ms/epoch - 27ms/step\n",
      "\n",
      "Test accuracy :  0.7599999904632568  Test loss :  1.3071696758270264\n"
     ]
    }
   ],
   "source": [
    "test_cnn_loss, test_cnn_acc = model4.evaluate(X_test, Y_test_ohe, verbose = 2)\n",
    "print(\"\\nTest accuracy : \", test_cnn_acc, \" Test loss : \", test_cnn_loss)"
   ]
  },
  {
   "cell_type": "code",
   "execution_count": 56,
   "id": "aF4Wh6Mmdg9k",
   "metadata": {
    "colab": {
     "base_uri": "https://localhost:8080/",
     "height": 532
    },
    "id": "aF4Wh6Mmdg9k",
    "outputId": "94d67fc7-c6e3-4392-d54a-375d8e8c9338"
   },
   "outputs": [
    {
     "data": {
      "image/png": "[encoded data removed]",
      "text/plain": [
       "<Figure size 576x576 with 1 Axes>"
      ]
     },
     "metadata": {
      "needs_background": "light"
     },
     "output_type": "display_data"
    }
   ],
   "source": [
    "import sklearn\n",
    "cnn_y_pred2 = np.argmax(CNN_model_predict2, axis=1)\n",
    "cnn_y_test = Y_test\n",
    "\n",
    "confusion_matrix_cnn2 = sklearn.metrics.confusion_matrix(y_pred = cnn_y_pred2, y_true = cnn_y_test)\n",
    "fig, ax = plt.subplots(figsize=(8, 8))\n",
    "ax.matshow(confusion_matrix_cnn2, cmap=plt.cm.Blues, alpha=.3)\n",
    "for i in range(confusion_matrix_cnn2.shape[0]):\n",
    "  for j in range(confusion_matrix_cnn2.shape[1]):\n",
    "    ax.text(x=j, y=i, s = confusion_matrix_cnn2[i, j], va=\"center\", ha=\"center\", size = \"xx-large\")\n",
    "plt.xlabel(\"predictions\", fontsize=20)\n",
    "plt.ylabel(\"actuals\", fontsize=20)\n",
    "plt.title(\"CNN Model Confusion matrix\", fontsize = 20)\n",
    "plt.show()"
   ]
  },
  {
   "cell_type": "code",
   "execution_count": 58,
   "id": "Ez3V5dj9nZd8",
   "metadata": {
    "colab": {
     "base_uri": "https://localhost:8080/"
    },
    "id": "Ez3V5dj9nZd8",
    "outputId": "d2b81dad-923b-42cf-87f7-90f45ea5228e"
   },
   "outputs": [
    {
     "data": {
      "text/plain": [
       "<generator object _BaseKFold.split at 0x7ff0ce5afe50>"
      ]
     },
     "execution_count": 58,
     "metadata": {},
     "output_type": "execute_result"
    }
   ],
   "source": [
    "from sklearn.model_selection import KFold\n",
    "\n",
    "kfold = KFold(n_splits=10, shuffle=True)\n",
    "a =  kfold.split(X_train, Y_train)\n",
    "i , j  = a."
   ]
  },
  {
   "cell_type": "code",
   "execution_count": null,
   "id": "XQCu-xBbKM9x",
   "metadata": {
    "id": "XQCu-xBbKM9x"
   },
   "outputs": [],
   "source": [
    "# Merge inputs and targets\n",
    "inputs = np.concatenate((X_train_normal,X_validation_normal ), axis=0)\n",
    "targets = np.concatenate((Y_train_ohe, Y_validation_ohe), axis=0)\n",
    "\n",
    "# Define the K-fold Cross Validator\n",
    "kfold = KFold(n_splits=10, shuffle=True)\n",
    "\n",
    "# K-fold Cross Validation model evaluation\n",
    "fold_no = 1\n",
    "for train, test in kfold.split(inputs, targets):\n",
    "\n",
    "  # Compile the model\n",
    "  model.compile(loss=loss_function,\n",
    "                optimizer=optimizer,\n",
    "                metrics=['accuracy'])\n",
    "\n",
    "  # Fit data to model\n",
    "  history = model.fit(inputs[train], targets[train],\n",
    "              batch_size=batch_size,\n",
    "              epochs=no_epochs,\n",
    "              verbose=verbosity)"
   ]
  },
  {
   "cell_type": "code",
   "execution_count": null,
   "id": "768062b6",
   "metadata": {},
   "outputs": [],
   "source": []
  }
 ],
 "metadata": {
  "accelerator": "GPU",
  "colab": {
   "collapsed_sections": [],
   "name": "hashemi - Project.ipynb",
   "provenance": []
  },
  "gpuClass": "standard",
  "kernelspec": {
   "display_name": "Python 3 (ipykernel)",
   "language": "python",
   "name": "python3"
  },
  "language_info": {
   "codemirror_mode": {
    "name": "ipython",
    "version": 3
   },
   "file_extension": ".py",
   "mimetype": "text/x-python",
   "name": "python",
   "nbconvert_exporter": "python",
   "pygments_lexer": "ipython3",
   "version": "3.10.9"
  }
 },
 "nbformat": 4,
 "nbformat_minor": 5
}
